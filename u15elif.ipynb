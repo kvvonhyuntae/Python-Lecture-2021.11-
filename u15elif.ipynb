{
 "cells": [
  {
   "cell_type": "markdown",
   "metadata": {},
   "source": [
    "# Unit 15. elif"
   ]
  },
  {
   "cell_type": "code",
   "execution_count": 3,
   "metadata": {},
   "outputs": [],
   "source": [
    "#90점 이상 'A', 80점 이상 'B', 70점 이상 'C', 60점 이상 'D', 아니면 'F' \n",
    "import random"
   ]
  },
  {
   "cell_type": "code",
   "execution_count": 4,
   "metadata": {},
   "outputs": [
    {
     "name": "stdout",
     "output_type": "stream",
     "text": [
      "97 A\n"
     ]
    }
   ],
   "source": [
    "score = random.randint(50, 100)\n",
    "if score >= 90:\n",
    "    grade = 'A'\n",
    "elif score >=  80:\n",
    "    grade = 'B'\n",
    "elif score >= 70:\n",
    "    grade = 'C'\n",
    "elif score >= 60:\n",
    "    grade = 'D'\n",
    "else:\n",
    "    grade = 'F'\n",
    "print(score, grade)"
   ]
  },
  {
   "cell_type": "code",
   "execution_count": 6,
   "metadata": {},
   "outputs": [
    {
     "name": "stdout",
     "output_type": "stream",
     "text": [
      "68 good\n"
     ]
    }
   ],
   "source": [
    "score = random.randint(50,100)\n",
    "grade = 'Exellent' if score >= 80 else \\\n",
    "            'good' if score >= 60 else 'proor'\n",
    "print(score, grade)"
   ]
  },
  {
   "cell_type": "code",
   "execution_count": 16,
   "metadata": {},
   "outputs": [
    {
     "name": "stdout",
     "output_type": "stream",
     "text": [
      "66 D\n"
     ]
    }
   ],
   "source": [
    "score = random.randint(50, 100)\n",
    "if score >= 90:\n",
    "    grade = 'A'\n",
    "elif score >=  80:\n",
    "    grade = 'B'\n",
    "elif score >= 70:\n",
    "    grade = 'C'\n",
    "elif score >= 60:\n",
    "    grade = 'D'\n",
    "else:\n",
    "    grade = 'F'\n",
    "print(score, grade)"
   ]
  },
  {
   "cell_type": "markdown",
   "metadata": {},
   "source": []
  },
  {
   "cell_type": "code",
   "execution_count": 18,
   "metadata": {},
   "outputs": [
    {
     "name": "stdout",
     "output_type": "stream",
     "text": [
      "96 A\n"
     ]
    }
   ],
   "source": [
    "score = random.randint(50, 100)\n",
    "grade = 'A' if score >= 90 else \\\n",
    "            'B' if score >= 80 else \\\n",
    "                'C' if score >= 70 else \\\n",
    "                    'D' if score >= 60 else'F'\n",
    "print(score, grade)"
   ]
  },
  {
   "cell_type": "markdown",
   "metadata": {},
   "source": []
  },
  {
   "cell_type": "markdown",
   "metadata": {},
   "source": []
  }
 ],
 "metadata": {
  "interpreter": {
   "hash": "9a35ec9f607b12d73097b223a195964bd5e56918c8a2b6441703592dc5ca306e"
  },
  "kernelspec": {
   "display_name": "Python 3.8.8 64-bit ('base': conda)",
   "language": "python",
   "name": "python3"
  },
  "language_info": {
   "codemirror_mode": {
    "name": "ipython",
    "version": 3
   },
   "file_extension": ".py",
   "mimetype": "text/x-python",
   "name": "python",
   "nbconvert_exporter": "python",
   "pygments_lexer": "ipython3",
   "version": "3.8.8"
  },
  "orig_nbformat": 4
 },
 "nbformat": 4,
 "nbformat_minor": 2
}
