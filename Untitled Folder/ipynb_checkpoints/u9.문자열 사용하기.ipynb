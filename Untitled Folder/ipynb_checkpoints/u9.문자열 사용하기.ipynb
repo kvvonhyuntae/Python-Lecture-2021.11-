{
 "cells": [
  {
   "cell_type": "code",
   "execution_count": 2,
   "id": "5ff46a97",
   "metadata": {},
   "outputs": [
    {
     "data": {
      "text/plain": [
       "'Hello, wrold!'"
      ]
     },
     "execution_count": 2,
     "metadata": {},
     "output_type": "execute_result"
    }
   ],
   "source": [
    "hello = 'Hello, wrold!'\n",
    "hello"
   ]
  },
  {
   "cell_type": "code",
   "execution_count": 3,
   "id": "e6def760",
   "metadata": {},
   "outputs": [
    {
     "data": {
      "text/plain": [
       "'안녕하세요'"
      ]
     },
     "execution_count": 3,
     "metadata": {},
     "output_type": "execute_result"
    }
   ],
   "source": [
    "hello = '안녕하세요'\n",
    "hello"
   ]
  },
  {
   "cell_type": "code",
   "execution_count": 4,
   "id": "4b3d37f3",
   "metadata": {},
   "outputs": [
    {
     "name": "stdout",
     "output_type": "stream",
     "text": [
      "Hello, world!\n",
      "안녕하세요.\n",
      "파이썬입니다.\n"
     ]
    }
   ],
   "source": [
    "hello = '''Hello, world!\n",
    "안녕하세요.\n",
    "파이썬입니다.'''\n",
    "print(hello)\n",
    "#여러줄로 된 문장을 표현할때는 작은땀음표 3개(''')를 사용한다."
   ]
  },
  {
   "cell_type": "code",
   "execution_count": 7,
   "id": "92e8c2e8",
   "metadata": {},
   "outputs": [
    {
     "data": {
      "text/plain": [
       "\"python isn't difficult\""
      ]
     },
     "execution_count": 7,
     "metadata": {},
     "output_type": "execute_result"
    }
   ],
   "source": [
    "a = 'python isn\\'t difficult'\n",
    "a\n",
    "\n",
    "#작은따음표 안에 작은 따음표를 넣을려면 작은 따음표 앞에 기호 \\ 를 사용한다."
   ]
  },
  {
   "cell_type": "code",
   "execution_count": 10,
   "id": "48c8ae11",
   "metadata": {},
   "outputs": [
    {
     "name": "stdout",
     "output_type": "stream",
     "text": [
      "Hello\n",
      "python\n"
     ]
    }
   ],
   "source": [
    "print('Hello\\npython')\n",
    "#문자열 안에 \\n을 넣으면 따음표 3개로 문장을 엮지 않아도 여러줄로된 문자를 출력 가능하다."
   ]
  },
  {
   "cell_type": "code",
   "execution_count": 12,
   "id": "de62eb19",
   "metadata": {},
   "outputs": [
    {
     "name": "stdout",
     "output_type": "stream",
     "text": [
      "Python is a programming language that lets you work quickly\n",
      "and\n",
      "integrate system more effectively\n"
     ]
    }
   ],
   "source": [
    "#연습문제1\n",
    "s = 'Python is a programming language that lets you work quickly\\nand\\nintegrate system more effectively'\n",
    "print(s)"
   ]
  },
  {
   "cell_type": "code",
   "execution_count": 16,
   "id": "597bc04c",
   "metadata": {},
   "outputs": [
    {
     "name": "stdout",
     "output_type": "stream",
     "text": [
      "'Python' is a \"programming language\" that lets you work quickly\n",
      "and\n",
      "integrate system more effectively.\n"
     ]
    }
   ],
   "source": [
    "#심사문제1\n",
    "s = ''''Python' is a \"programming language\" that lets you work quickly\n",
    "and\n",
    "integrate system more effectively.'''\n",
    "print(s)"
   ]
  },
  {
   "cell_type": "code",
   "execution_count": 25,
   "id": "6e6e6493",
   "metadata": {},
   "outputs": [
    {
     "ename": "TypeError",
     "evalue": "int() argument must be a string, a bytes-like object or a number, not 'list'",
     "output_type": "error",
     "traceback": [
      "\u001b[1;31m---------------------------------------------------------------------------\u001b[0m",
      "\u001b[1;31mTypeError\u001b[0m                                 Traceback (most recent call last)",
      "\u001b[1;32m<ipython-input-25-602202b5b152>\u001b[0m in \u001b[0;36m<module>\u001b[1;34m\u001b[0m\n\u001b[1;32m----> 1\u001b[1;33m \u001b[0mstep\u001b[0m \u001b[1;33m=\u001b[0m \u001b[0mint\u001b[0m\u001b[1;33m(\u001b[0m\u001b[0minput\u001b[0m\u001b[1;33m(\u001b[0m\u001b[1;33m)\u001b[0m\u001b[1;33m.\u001b[0m\u001b[0msplit\u001b[0m\u001b[1;33m(\u001b[0m\u001b[1;33m)\u001b[0m\u001b[1;33m)\u001b[0m\u001b[1;33m\u001b[0m\u001b[1;33m\u001b[0m\u001b[0m\n\u001b[0m\u001b[0;32m      2\u001b[0m \u001b[0mx\u001b[0m \u001b[1;33m=\u001b[0m \u001b[0mtuple\u001b[0m\u001b[1;33m(\u001b[0m\u001b[0mrange\u001b[0m\u001b[1;33m(\u001b[0m\u001b[1;33m-\u001b[0m\u001b[1;36m10\u001b[0m\u001b[1;33m,\u001b[0m\u001b[1;36m10\u001b[0m\u001b[1;33m,\u001b[0m\u001b[0mstep\u001b[0m\u001b[1;33m)\u001b[0m\u001b[1;33m)\u001b[0m\u001b[1;33m\u001b[0m\u001b[1;33m\u001b[0m\u001b[0m\n\u001b[0;32m      3\u001b[0m \u001b[0mprint\u001b[0m\u001b[1;33m(\u001b[0m\u001b[0mx\u001b[0m\u001b[1;33m)\u001b[0m\u001b[1;33m\u001b[0m\u001b[1;33m\u001b[0m\u001b[0m\n",
      "\u001b[1;31mTypeError\u001b[0m: int() argument must be a string, a bytes-like object or a number, not 'list'"
     ]
    }
   ],
   "source": [
    "step = int(input().split())\n",
    "x = tuple(range(-10,10,step))\n",
    "print(x)"
   ]
  },
  {
   "cell_type": "code",
   "execution_count": null,
   "id": "8b3fca23",
   "metadata": {},
   "outputs": [],
   "source": []
  },
  {
   "cell_type": "code",
   "execution_count": null,
   "id": "2162ff03",
   "metadata": {},
   "outputs": [],
   "source": []
  }
 ],
 "metadata": {
  "kernelspec": {
   "display_name": "Python 3",
   "language": "python",
   "name": "python3"
  },
  "language_info": {
   "codemirror_mode": {
    "name": "ipython",
    "version": 3
   },
   "file_extension": ".py",
   "mimetype": "text/x-python",
   "name": "python",
   "nbconvert_exporter": "python",
   "pygments_lexer": "ipython3",
   "version": "3.8.8"
  }
 },
 "nbformat": 4,
 "nbformat_minor": 5
}
