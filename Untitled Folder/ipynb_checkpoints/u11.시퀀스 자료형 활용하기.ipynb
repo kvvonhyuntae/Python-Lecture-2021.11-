{
 "cells": [
  {
   "cell_type": "code",
   "execution_count": 1,
   "id": "f768974a",
   "metadata": {},
   "outputs": [
    {
     "data": {
      "text/plain": "True"
     },
     "execution_count": 1,
     "metadata": {},
     "output_type": "execute_result"
    }
   ],
   "source": [
    "a = [10, 20, 30, 40, 50, 60, 70, 80, 90]\n",
    "30 in a\n",
    "#특정값이 있는지 없는지 확인"
   ]
  },
  {
   "cell_type": "code",
   "execution_count": 2,
   "id": "ddc935f6",
   "metadata": {},
   "outputs": [
    {
     "data": {
      "text/plain": "True"
     },
     "execution_count": 2,
     "metadata": {},
     "output_type": "execute_result"
    }
   ],
   "source": [
    "a = [10, 20, 30, 40, 50, 60, 70, 80, 90]\n",
    "100 not in a\n",
    "#in 앞에 not을 붙이면 특정 값이 없는지 확인"
   ]
  },
  {
   "cell_type": "code",
   "execution_count": 6,
   "id": "cedb77fb",
   "metadata": {},
   "outputs": [
    {
     "data": {
      "text/plain": "True"
     },
     "execution_count": 6,
     "metadata": {},
     "output_type": "execute_result"
    }
   ],
   "source": [
    "43 in (38, 76, 43, 62, 19)\n",
    "1 in range(10)\n",
    "#튜플과 range도 활용가능하다. "
   ]
  },
  {
   "cell_type": "code",
   "execution_count": 4,
   "id": "96acf504",
   "metadata": {},
   "outputs": [
    {
     "data": {
      "text/plain": "[0, 10, 20, 30, 9, 8, 7, 6]"
     },
     "execution_count": 4,
     "metadata": {},
     "output_type": "execute_result"
    }
   ],
   "source": [
    "a = [0, 10, 20, 30]\n",
    "b = [9, 8, 7, 6]\n",
    "a + b\n",
    "#시퀀스 객체는 + 연산자를 사용하여 연결한뒤 새로운 객체를 만들수있다. "
   ]
  },
  {
   "cell_type": "code",
   "execution_count": 5,
   "id": "1151c236",
   "metadata": {},
   "outputs": [
    {
     "ename": "TypeError",
     "evalue": "unsupported operand type(s) for +: 'range' and 'range'",
     "output_type": "error",
     "traceback": [
      "\u001B[1;31m---------------------------------------------------------------------------\u001B[0m",
      "\u001B[1;31mTypeError\u001B[0m                                 Traceback (most recent call last)",
      "\u001B[1;32m<ipython-input-5-31d1f8f03416>\u001B[0m in \u001B[0;36m<module>\u001B[1;34m\u001B[0m\n\u001B[1;32m----> 1\u001B[1;33m \u001B[0mrange\u001B[0m\u001B[1;33m(\u001B[0m\u001B[1;36m0\u001B[0m\u001B[1;33m,\u001B[0m \u001B[1;36m10\u001B[0m\u001B[1;33m)\u001B[0m \u001B[1;33m+\u001B[0m \u001B[0mrange\u001B[0m\u001B[1;33m(\u001B[0m\u001B[1;36m11\u001B[0m\u001B[1;33m,\u001B[0m \u001B[1;36m20\u001B[0m\u001B[1;33m)\u001B[0m\u001B[1;33m\u001B[0m\u001B[1;33m\u001B[0m\u001B[0m\n\u001B[0m\u001B[0;32m      2\u001B[0m \u001B[1;31m#range는 +연산자로 객체를 연결할 수 없다.\u001B[0m\u001B[1;33m\u001B[0m\u001B[1;33m\u001B[0m\u001B[1;33m\u001B[0m\u001B[0m\n",
      "\u001B[1;31mTypeError\u001B[0m: unsupported operand type(s) for +: 'range' and 'range'"
     ]
    }
   ],
   "source": [
    "range(0, 10) + range(11, 20)\n",
    "#range는 +연산자로 객체를 연결할 수 없다."
   ]
  },
  {
   "cell_type": "code",
   "execution_count": 7,
   "id": "310366f5",
   "metadata": {},
   "outputs": [
    {
     "data": {
      "text/plain": "[0, 1, 2, 3, 4, 5, 6, 7, 8, 9, 10, 11, 12, 13, 14, 15, 16, 17, 18, 19]"
     },
     "execution_count": 7,
     "metadata": {},
     "output_type": "execute_result"
    }
   ],
   "source": [
    "list(range(0, 10)) + list(range(10, 20))\n",
    "#range의 경우 리스트 혹은 튜플롤 만들어서 연결하면된다."
   ]
  },
  {
   "cell_type": "code",
   "execution_count": 8,
   "id": "d7219591",
   "metadata": {},
   "outputs": [
    {
     "data": {
      "text/plain": "'hello10'"
     },
     "execution_count": 8,
     "metadata": {},
     "output_type": "execute_result"
    }
   ],
   "source": [
    "'hello' + str(10)\n",
    "#문자와 숫자를 하나의 문장으로 연결할때는 숫자를 str을 사용하여 정수로 변환한뒤\n",
    "#연결한다."
   ]
  },
  {
   "cell_type": "code",
   "execution_count": 9,
   "id": "5b0dbe24",
   "metadata": {},
   "outputs": [
    {
     "data": {
      "text/plain": "[10, 10, 20, 30, 10, 10, 20, 30, 10, 10, 20, 30]"
     },
     "execution_count": 9,
     "metadata": {},
     "output_type": "execute_result"
    }
   ],
   "source": [
    "[10, 10, 20, 30] * 3\n"
   ]
  },
  {
   "cell_type": "code",
   "execution_count": 10,
   "id": "0f3ba905",
   "metadata": {},
   "outputs": [
    {
     "data": {
      "text/plain": "10"
     },
     "execution_count": 10,
     "metadata": {},
     "output_type": "execute_result"
    }
   ],
   "source": [
    "a = [0, 10, 20, 30, 40, 50, 60, 70, 80, 90]\n",
    "len(a)\n",
    "#len "
   ]
  },
  {
   "cell_type": "code",
   "execution_count": 11,
   "id": "d354167d",
   "metadata": {},
   "outputs": [
    {
     "data": {
      "text/plain": "5"
     },
     "execution_count": 11,
     "metadata": {},
     "output_type": "execute_result"
    }
   ],
   "source": [
    "len(range(0, 10, 2))\n",
    "#range에 len함수를 사용하면 숫자가 생성되는 개수를 구함"
   ]
  },
  {
   "cell_type": "code",
   "execution_count": 12,
   "id": "12d39b90",
   "metadata": {},
   "outputs": [
    {
     "data": {
      "text/plain": "38"
     },
     "execution_count": 12,
     "metadata": {},
     "output_type": "execute_result"
    }
   ],
   "source": [
    "b = (38, 21, 53, 62, 19)\n",
    "b[0]\n",
    "#객체에 []대괄호를 붙히고 안에 요소의 인덱스를 지정하면 해당 요소에 접근가능\n",
    "#튜플, 문자, range도 가능하다"
   ]
  },
  {
   "cell_type": "code",
   "execution_count": 13,
   "id": "e5ae6a28",
   "metadata": {},
   "outputs": [
    {
     "data": {
      "text/plain": "[0, 2, 4, 6, 8]"
     },
     "execution_count": 13,
     "metadata": {},
     "output_type": "execute_result"
    }
   ],
   "source": [
    "r = list(range(0, 10, 2))\n",
    "r\n",
    "#시퀀스 객체에 인덱스를 지정하지 않으면 시퀀스 객체 전체를 뜻함"
   ]
  },
  {
   "cell_type": "code",
   "execution_count": 14,
   "id": "946eea4f",
   "metadata": {},
   "outputs": [
    {
     "data": {
      "text/plain": "19"
     },
     "execution_count": 14,
     "metadata": {},
     "output_type": "execute_result"
    }
   ],
   "source": [
    "a = [38, 21, 53, 62, 19]\n",
    "a[-1]\n",
    "#인덱스를 음수로 지정할경우 뒤에서부터 요소에 지정한다"
   ]
  },
  {
   "cell_type": "code",
   "execution_count": 15,
   "id": "814a51e4",
   "metadata": {},
   "outputs": [
    {
     "data": {
      "text/plain": "[38, 21, 53, 62, 19]"
     },
     "execution_count": 15,
     "metadata": {},
     "output_type": "execute_result"
    }
   ],
   "source": [
    "a = [0, 0, 0, 0, 0]\n",
    "a[0] = 38\n",
    "a[1] = 21\n",
    "a[2] = 53\n",
    "a[3] = 62\n",
    "a[4] = 19\n",
    "a\n",
    "\n",
    "#a(n) = X 처럼 인덱스에 값을 지정한 뒤 값을 할당\n",
    "#범위에서 벗어난 인덱스는 지정할  수 없다. \n",
    "#튜플과 문자열은 요소를 변경할수 없다. like 읽기전용"
   ]
  },
  {
   "cell_type": "code",
   "execution_count": 16,
   "id": "20ca7e64",
   "metadata": {},
   "outputs": [
    {
     "data": {
      "text/plain": "[38, 21, 62, 19]"
     },
     "execution_count": 16,
     "metadata": {},
     "output_type": "execute_result"
    }
   ],
   "source": [
    "a = [38, 21, 53, 62, 19]\n",
    "del a[2]\n",
    "a\n",
    "#del쓰면 요소가 지워짐\n",
    "#문자열과 range도 안에 저장된 요소를 삭제할 수 없다."
   ]
  },
  {
   "cell_type": "code",
   "execution_count": 17,
   "id": "f58bc43a",
   "metadata": {},
   "outputs": [
    {
     "data": {
      "text/plain": "[10, 20, 30, 40]"
     },
     "execution_count": 17,
     "metadata": {},
     "output_type": "execute_result"
    }
   ],
   "source": [
    "a = [10, 20, 30, 40, 50, 60, 70, 80, 90]\n",
    "a[0:4] #인덱스 0부터 3까지 잘라서 새 리스트를 만듬\n"
   ]
  },
  {
   "cell_type": "code",
   "execution_count": 18,
   "id": "ec9cf9c5",
   "metadata": {},
   "outputs": [
    {
     "data": {
      "text/plain": "[10, 20, 30, 40, 50, 60, 70, 80, 90]"
     },
     "execution_count": 18,
     "metadata": {},
     "output_type": "execute_result"
    }
   ],
   "source": [
    "a[0:10]"
   ]
  },
  {
   "cell_type": "code",
   "execution_count": 19,
   "id": "90e36c1e",
   "metadata": {},
   "outputs": [
    {
     "data": {
      "text/plain": "[50, 60, 70, 80]"
     },
     "execution_count": 19,
     "metadata": {},
     "output_type": "execute_result"
    }
   ],
   "source": [
    "a [4:-1]\n",
    "#음수도 가능 #4번째 요소부터 뒤에 첫번쩨요소를 가져오라는 뜻"
   ]
  },
  {
   "cell_type": "code",
   "execution_count": 20,
   "id": "b6316335",
   "metadata": {},
   "outputs": [
    {
     "data": {
      "text/plain": "[20, 50]"
     },
     "execution_count": 20,
     "metadata": {},
     "output_type": "execute_result"
    }
   ],
   "source": [
    "a = [0, 10, 20, 30, 40, 50, 60, 70, 80, 90]\n",
    "a[2:8:3]\n",
    "#마지막이 증가폭 #인덱스 2부터 7까지 3씩 증가시키면서 가져오라는 뜻 "
   ]
  },
  {
   "cell_type": "code",
   "execution_count": 21,
   "id": "4c4cff4e",
   "metadata": {},
   "outputs": [
    {
     "data": {
      "text/plain": "[0, 10, 20, 30, 40, 50, 60]"
     },
     "execution_count": 21,
     "metadata": {},
     "output_type": "execute_result"
    }
   ],
   "source": [
    "a = [0, 10, 20, 30, 40, 50, 60, 70, 80, 90]\n",
    "a[:7]\n",
    "#시작 인덱스를 생략하면 처음부터 지정 인덱스까지 가져온다."
   ]
  },
  {
   "cell_type": "code",
   "execution_count": 22,
   "id": "18167bc5",
   "metadata": {},
   "outputs": [
    {
     "data": {
      "text/plain": "[70, 80, 90]"
     },
     "execution_count": 22,
     "metadata": {},
     "output_type": "execute_result"
    }
   ],
   "source": [
    "a = [0, 10, 20, 30, 40, 50, 60, 70, 80, 90]\n",
    "a[7:]\n",
    "#마지막 인덱스를 생략하면 지정 인덱스부터 마지막 인덱스까지 가져온다."
   ]
  },
  {
   "cell_type": "code",
   "execution_count": 23,
   "id": "f5275429",
   "metadata": {},
   "outputs": [
    {
     "data": {
      "text/plain": "[0, 10, 20, 30, 40, 50, 60, 70, 80, 90]"
     },
     "execution_count": 23,
     "metadata": {},
     "output_type": "execute_result"
    }
   ],
   "source": [
    "a = [0, 10, 20, 30, 40, 50, 60, 70, 80, 90]\n",
    "a[:]\n",
    "#인덱스를 둘다 생략하면 리스트 전체를 가져온다"
   ]
  },
  {
   "cell_type": "code",
   "execution_count": 24,
   "id": "52c84fb7",
   "metadata": {},
   "outputs": [
    {
     "data": {
      "text/plain": "[0, 20, 40, 60]"
     },
     "execution_count": 24,
     "metadata": {},
     "output_type": "execute_result"
    }
   ],
   "source": [
    "a = [0, 10, 20, 30, 40, 50, 60, 70, 80, 90]\n",
    "a[:7:2]\n",
    "#리스트의 처음부터 인덱스를 2씩 중감시키면서 인덱스를 6까지 가져옴"
   ]
  },
  {
   "cell_type": "code",
   "execution_count": 25,
   "id": "9ca7b44f",
   "metadata": {},
   "outputs": [
    {
     "data": {
      "text/plain": "[70, 90]"
     },
     "execution_count": 25,
     "metadata": {},
     "output_type": "execute_result"
    }
   ],
   "source": [
    "a[7::2]\n",
    "#인덱스를 7부터 2씩 증가시키면서 리스트의 마지막 요소까지 가져옴"
   ]
  },
  {
   "cell_type": "code",
   "execution_count": 26,
   "id": "33f1c3f7",
   "metadata": {},
   "outputs": [
    {
     "data": {
      "text/plain": "[0, 20, 40, 60, 80]"
     },
     "execution_count": 26,
     "metadata": {},
     "output_type": "execute_result"
    }
   ],
   "source": [
    "a[::2]\n",
    "#시작값과 마지막값을 둘다 생락하고 n번씩 증가시키면서 요소를 가져옴"
   ]
  },
  {
   "cell_type": "code",
   "execution_count": 27,
   "id": "c0b21522",
   "metadata": {},
   "outputs": [
    {
     "data": {
      "text/plain": "[0, 10, 20, 30, 40, 50, 60, 70, 80, 90]"
     },
     "execution_count": 27,
     "metadata": {},
     "output_type": "execute_result"
    }
   ],
   "source": [
    "a[::]\n",
    "#셋다 생략하면 리스트 전체를 가져온다."
   ]
  },
  {
   "cell_type": "code",
   "execution_count": 28,
   "id": "9d884a0f",
   "metadata": {},
   "outputs": [
    {
     "data": {
      "text/plain": "[50, 40, 30, 20]"
     },
     "execution_count": 28,
     "metadata": {},
     "output_type": "execute_result"
    }
   ],
   "source": [
    "a = [0, 10, 20, 30, 40, 50, 60, 70, 80, 90]\n",
    "a[5:1:-1]\n",
    "#증가폭을 음수로 지정하면 뒤에서부터 값을 나열한다."
   ]
  },
  {
   "cell_type": "code",
   "execution_count": 29,
   "id": "cee33834",
   "metadata": {},
   "outputs": [
    {
     "data": {
      "text/plain": "[90, 80, 70, 60, 50, 40, 30, 20, 10, 0]"
     },
     "execution_count": 29,
     "metadata": {},
     "output_type": "execute_result"
    }
   ],
   "source": [
    "a[::-1]\n",
    "#인덱스 값을 생략할경우 리스트를 반대로 뒤집는다"
   ]
  },
  {
   "cell_type": "code",
   "execution_count": 30,
   "id": "6040cfdd",
   "metadata": {},
   "outputs": [
    {
     "data": {
      "text/plain": "[0, 10, 20, 30, 40, 50, 60, 70, 80, 90]"
     },
     "execution_count": 30,
     "metadata": {},
     "output_type": "execute_result"
    }
   ],
   "source": [
    "a = [0, 10, 20, 30, 40, 50, 60, 70, 80, 90]\n",
    "a[0:len(a)]"
   ]
  },
  {
   "cell_type": "code",
   "execution_count": 31,
   "id": "025d8764",
   "metadata": {},
   "outputs": [
    {
     "data": {
      "text/plain": "(40, 50, 60)"
     },
     "execution_count": 31,
     "metadata": {},
     "output_type": "execute_result"
    }
   ],
   "source": [
    "b = (0, 10, 20, 30, 40, 50, 60, 70, 80, 90)\n",
    "b [4:7]"
   ]
  },
  {
   "cell_type": "code",
   "execution_count": 32,
   "id": "2f7fd20b",
   "metadata": {},
   "outputs": [
    {
     "data": {
      "text/plain": "(40, 50, 60, 70, 80, 90)"
     },
     "execution_count": 32,
     "metadata": {},
     "output_type": "execute_result"
    }
   ],
   "source": [
    "b [4: ]"
   ]
  },
  {
   "cell_type": "code",
   "execution_count": 33,
   "id": "be83c15d",
   "metadata": {},
   "outputs": [
    {
     "data": {
      "text/plain": "(0, 20, 40, 60)"
     },
     "execution_count": 33,
     "metadata": {},
     "output_type": "execute_result"
    }
   ],
   "source": [
    "b[:7:2]\n",
    "#튜플도 가능하다"
   ]
  },
  {
   "cell_type": "code",
   "execution_count": 34,
   "id": "aff967b3",
   "metadata": {},
   "outputs": [],
   "source": [
    "r = range(10)"
   ]
  },
  {
   "cell_type": "code",
   "execution_count": 35,
   "id": "67ce0034",
   "metadata": {},
   "outputs": [
    {
     "data": {
      "text/plain": "range(0, 10)"
     },
     "execution_count": 35,
     "metadata": {},
     "output_type": "execute_result"
    }
   ],
   "source": [
    "r\n"
   ]
  },
  {
   "cell_type": "code",
   "execution_count": 36,
   "id": "9355667b",
   "metadata": {},
   "outputs": [
    {
     "data": {
      "text/plain": "range(4, 7)"
     },
     "execution_count": 36,
     "metadata": {},
     "output_type": "execute_result"
    }
   ],
   "source": [
    "r[4:7]"
   ]
  },
  {
   "cell_type": "code",
   "execution_count": 37,
   "id": "e6c8c5cf",
   "metadata": {},
   "outputs": [
    {
     "data": {
      "text/plain": "range(4, 10)"
     },
     "execution_count": 37,
     "metadata": {},
     "output_type": "execute_result"
    }
   ],
   "source": [
    "r[4:]"
   ]
  },
  {
   "cell_type": "code",
   "execution_count": 38,
   "id": "f8fec8c1",
   "metadata": {},
   "outputs": [
    {
     "data": {
      "text/plain": "range(0, 7, 10)"
     },
     "execution_count": 38,
     "metadata": {},
     "output_type": "execute_result"
    }
   ],
   "source": [
    "r[:7:10]"
   ]
  },
  {
   "cell_type": "code",
   "execution_count": 39,
   "id": "3faf941c",
   "metadata": {},
   "outputs": [
    {
     "data": {
      "text/plain": "range(0, 7, 2)"
     },
     "execution_count": 39,
     "metadata": {},
     "output_type": "execute_result"
    }
   ],
   "source": [
    "range(0, 7, 2)\n",
    "#range에 슬라이스를 사용하면 지정된 범위의 숫자를 생성하는 \n",
    "#새로운 range객체가 생성된다"
   ]
  },
  {
   "cell_type": "code",
   "execution_count": 40,
   "id": "48eba3fc",
   "metadata": {},
   "outputs": [
    {
     "data": {
      "text/plain": "[0, 2, 4, 6]"
     },
     "execution_count": 40,
     "metadata": {},
     "output_type": "execute_result"
    }
   ],
   "source": [
    "list(r[:7:2])\n",
    "#대충 이렇게 쓰"
   ]
  },
  {
   "cell_type": "code",
   "execution_count": 41,
   "id": "c4ceaf1a",
   "metadata": {},
   "outputs": [
    {
     "data": {
      "text/plain": "'llo, wo'"
     },
     "execution_count": 41,
     "metadata": {},
     "output_type": "execute_result"
    }
   ],
   "source": [
    "hello = 'Hello, world!'\n",
    "hello[2:9]\n",
    "#문자열[시작인덱스:끝인덱스]\n",
    "#문자열[시작인덱스:끝인덱스:인덱스증가폭]\n",
    "#대충 이렇게 씁니다"
   ]
  },
  {
   "cell_type": "code",
   "execution_count": 42,
   "id": "53c708ef",
   "metadata": {},
   "outputs": [
    {
     "data": {
      "text/plain": "range(4, 7, 2)"
     },
     "execution_count": 42,
     "metadata": {},
     "output_type": "execute_result"
    }
   ],
   "source": [
    "range(10)[slice(4, 7, 2)]"
   ]
  },
  {
   "cell_type": "code",
   "execution_count": 43,
   "id": "e78bf364",
   "metadata": {},
   "outputs": [
    {
     "data": {
      "text/plain": "range(4, 7, 2)"
     },
     "execution_count": 43,
     "metadata": {},
     "output_type": "execute_result"
    }
   ],
   "source": [
    "range(10).__getitem__(slice(4, 7, 2))"
   ]
  },
  {
   "cell_type": "code",
   "execution_count": 44,
   "id": "aff076d6",
   "metadata": {},
   "outputs": [],
   "source": [
    "# 슬라이스객체 = slice(끝인덱스)\n",
    "#슬라이스객체 = slice(시작인덱스, 끝인덱스)\n",
    "# 슬라이스객체 = slice(시작인덱스, 끝인덱스, 인덱스증가폭)\n",
    "# 시퀀스객체[슬라이스객체]\n",
    "# 시퀀스객체.__getitem__(슬라이스객체)"
   ]
  },
  {
   "cell_type": "code",
   "execution_count": 45,
   "id": "2f7bb1f8",
   "metadata": {},
   "outputs": [
    {
     "data": {
      "text/plain": "[40, 50, 60]"
     },
     "execution_count": 45,
     "metadata": {},
     "output_type": "execute_result"
    }
   ],
   "source": [
    "a = [0, 10, 20, 30, 40, 50, 60, 70, 80, 90]\n",
    "s = slice(4, 7)\n",
    "a[s]\n",
    "#slice 객체를 하나만 만든 뒤 여러 시퀀스 객체에 사용하는 방법도 가능"
   ]
  },
  {
   "cell_type": "code",
   "execution_count": 46,
   "id": "64fc263a",
   "metadata": {},
   "outputs": [
    {
     "data": {
      "text/plain": "[0, 10, 'a', 'b', 'c', 50, 60, 70, 80, 90]"
     },
     "execution_count": 46,
     "metadata": {},
     "output_type": "execute_result"
    }
   ],
   "source": [
    "a = [0, 10, 20, 30, 40, 50, 60, 70, 80, 90]\n",
    "a [2:5] = ['a', 'b', 'c']\n",
    "a\n",
    "#슬라이스에 요소 할당하기\n",
    "#시작값과 마지막값을 지정하고 슬라이스에 \n",
    "#할당한 요소와 리스트의 해당 요소를 교체한다\n",
    "#갯수 안맞춰도 가능"
   ]
  },
  {
   "cell_type": "code",
   "execution_count": 47,
   "id": "809b9711",
   "metadata": {},
   "outputs": [
    {
     "data": {
      "text/plain": "[0, 10, 'a', 30, 'b', 50, 'c', 70, 80, 90]"
     },
     "execution_count": 47,
     "metadata": {},
     "output_type": "execute_result"
    }
   ],
   "source": [
    "a = [0, 10, 20, 30, 40, 50, 60, 70, 80, 90]\n",
    "a [2:8:2] = ['a', 'b', 'c']\n",
    "a\n",
    "#증가폭을 이용하여 슬라이스에 요소할당\n",
    "#증가폭을 지정했을때는 슬라이스의 범위와 요소의 개수와 \n",
    "#할당할 요소의 개수가 정확히 일치해야한다.\n",
    "#튜플, 문자열, range는 슬라이스 범위를 지정하더라도 요소를 할당할수없다."
   ]
  },
  {
   "cell_type": "code",
   "execution_count": 48,
   "id": "328892ba",
   "metadata": {},
   "outputs": [
    {
     "data": {
      "text/plain": "[0, 10, 50, 60, 70, 80, 90]"
     },
     "execution_count": 48,
     "metadata": {},
     "output_type": "execute_result"
    }
   ],
   "source": [
    "a = [0, 10, 20, 30, 40, 50, 60, 70, 80, 90]\n",
    "del a [2:5]\n",
    "a\n",
    "#슬라이스 지정해서 삭제 이렇게 하면됨"
   ]
  },
  {
   "cell_type": "code",
   "execution_count": 49,
   "id": "16c3222a",
   "metadata": {},
   "outputs": [
    {
     "data": {
      "text/plain": "[0, 10, 30, 50, 70, 80, 90]"
     },
     "execution_count": 49,
     "metadata": {},
     "output_type": "execute_result"
    }
   ],
   "source": [
    "a = [0, 10, 20, 30, 40, 50, 60, 70, 80, 90]\n",
    "del a[2:8:2]\n",
    "a\n",
    "#슬라이스를 지정해서 증가폭을주어 삭제하는방법\n",
    "#읽기전용인 튜플과 range는 사용불가능"
   ]
  },
  {
   "cell_type": "code",
   "execution_count": null,
   "id": "fced9a50",
   "metadata": {},
   "outputs": [],
   "source": []
  }
 ],
 "metadata": {
  "kernelspec": {
   "display_name": "Python 3",
   "language": "python",
   "name": "python3"
  },
  "language_info": {
   "codemirror_mode": {
    "name": "ipython",
    "version": 3
   },
   "file_extension": ".py",
   "mimetype": "text/x-python",
   "name": "python",
   "nbconvert_exporter": "python",
   "pygments_lexer": "ipython3",
   "version": "3.8.8"
  },
  "toc": {
   "base_numbering": 1,
   "nav_menu": {},
   "number_sections": true,
   "sideBar": true,
   "skip_h1_title": false,
   "title_cell": "Table of Contents",
   "title_sidebar": "Contents",
   "toc_cell": false,
   "toc_position": {},
   "toc_section_display": true,
   "toc_window_display": false
  }
 },
 "nbformat": 4,
 "nbformat_minor": 5
}