{
 "cells": [
  {
   "cell_type": "code",
   "execution_count": 6,
   "metadata": {},
   "outputs": [
    {
     "name": "stdout",
     "output_type": "stream",
     "text": [
      "10이 아닙니다\n"
     ]
    }
   ],
   "source": [
    "x = 5\n",
    "if x == 10:\n",
    "    print('10입니다.')\n",
    "else:\n",
    "    print('10이 아닙니다')\n",
    "#else는 if 뒤에 오며 단독으로 사용 X"
   ]
  },
  {
   "cell_type": "code",
   "execution_count": 7,
   "metadata": {},
   "outputs": [
    {
     "data": {
      "text/plain": [
       "0"
      ]
     },
     "execution_count": 7,
     "metadata": {},
     "output_type": "execute_result"
    }
   ],
   "source": [
    "x = 5\n",
    "if x == 10:\n",
    "    y = x\n",
    "else:\n",
    "    y = 0\n",
    "y\n",
    "#변수 x에 10이 들어있으면 y에 x를 할당하고\n",
    "#아니면 y에 0을 할당하는 코드 "
   ]
  },
  {
   "cell_type": "code",
   "execution_count": 8,
   "metadata": {},
   "outputs": [
    {
     "data": {
      "text/plain": [
       "0"
      ]
     },
     "execution_count": 8,
     "metadata": {},
     "output_type": "execute_result"
    }
   ],
   "source": [
    "x = 5\n",
    "y = x if x==10 else 0\n",
    "y \n",
    "#이런식으로 축약할수있고 이걸 조건부표현식이라고 부름\n"
   ]
  },
  {
   "cell_type": "code",
   "execution_count": 9,
   "metadata": {},
   "outputs": [
    {
     "name": "stdout",
     "output_type": "stream",
     "text": [
      "참\n",
      "거짓\n",
      "거짓\n"
     ]
    }
   ],
   "source": [
    "if True:\n",
    "    print('참')    # True는 참\n",
    "else:\n",
    "    print('거짓')\n",
    " \n",
    "if False:\n",
    "    print('참')\n",
    "else:\n",
    "    print('거짓')    # False는 거짓\n",
    " \n",
    "if None:\n",
    "    print('참')\n",
    "else:\n",
    "    print('거짓')    # None은 거짓\n",
    "\n",
    "#None은 False로 취급되므로 else의 코드가 실행된다."
   ]
  },
  {
   "cell_type": "code",
   "execution_count": 10,
   "metadata": {},
   "outputs": [
    {
     "name": "stdout",
     "output_type": "stream",
     "text": [
      "참\n"
     ]
    }
   ],
   "source": [
    "x = 10\n",
    "y = 20\n",
    "\n",
    "if x == 10 and y == 20:\n",
    "    print('참')\n",
    "else:\n",
    "    print('거짓')"
   ]
  },
  {
   "cell_type": "code",
   "execution_count": null,
   "metadata": {},
   "outputs": [],
   "source": [
    "#심사문제\n",
    "korean, english, mathematics, science = map(int, input().split())\n",
    "\n",
    "if korean < 0 or korean > 100 or english < 0 or english > 100 or mathematics < 0 or mathematics > 100 or science < 0 or science > 100:\n",
    "  print('잘못된 점수')\n",
    "else:\n",
    "  if (korean + english + mathematics + science) / 4 >= 80:\n",
    "    print('합격')\n",
    "  else:\n",
    "    print('불합격')"
   ]
  }
 ],
 "metadata": {
  "interpreter": {
   "hash": "424e5a8e9830ef3583904a5a9b45d3a53cb22c3406bea742965336731d83af08"
  },
  "kernelspec": {
   "display_name": "Python 3.8.8 64-bit ('base': conda)",
   "language": "python",
   "name": "python3"
  },
  "language_info": {
   "codemirror_mode": {
    "name": "ipython",
    "version": 3
   },
   "file_extension": ".py",
   "mimetype": "text/x-python",
   "name": "python",
   "nbconvert_exporter": "python",
   "pygments_lexer": "ipython3",
   "version": "3.8.8"
  },
  "orig_nbformat": 4
 },
 "nbformat": 4,
 "nbformat_minor": 2
}
