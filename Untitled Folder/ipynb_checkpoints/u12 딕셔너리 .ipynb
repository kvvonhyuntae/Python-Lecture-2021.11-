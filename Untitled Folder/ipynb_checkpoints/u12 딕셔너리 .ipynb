{
 "cells": [
  {
   "cell_type": "code",
   "execution_count": 43,
   "metadata": {},
   "outputs": [
    {
     "data": {
      "text/plain": [
       "{'health': 490, 'mana': 334, 'melee': 550, 'amor': 18.72}"
      ]
     },
     "execution_count": 43,
     "metadata": {},
     "output_type": "execute_result"
    }
   ],
   "source": [
    "lux = {'health' : 490, 'mana':334, 'melee':550, 'amor':18.72}\n",
    "lux\n",
    "#딕셔너리 :연관된 값을 묶어서 저장하는 자료형, 값마다 다른 이름을 붙어서 저장하는 방식\n",
    "# 딕셔너리는 중괄호{}안에 키:값을 저장하며 각 키와 값은 콤마, 로 저장한다.\n",
    "# 딕셔너리에서 중복되는 값은 가장 뒤에 있는 값만 적용되며 중복된 키는 저장X\n",
    "# 키에는 리스트와 딕셔너리를 사용할수없다."
   ]
  },
  {
   "cell_type": "code",
   "execution_count": 44,
   "metadata": {},
   "outputs": [
    {
     "data": {
      "text/plain": [
       "({}, dict)"
      ]
     },
     "execution_count": 44,
     "metadata": {},
     "output_type": "execute_result"
    }
   ],
   "source": [
    "x =  {}, dict\n",
    "x\n",
    "# 빈 딕셔너리를 만들때는 중괄호만 지정하거나 dict를 사용한다"
   ]
  },
  {
   "cell_type": "code",
   "execution_count": 45,
   "metadata": {},
   "outputs": [
    {
     "data": {
      "text/plain": [
       "{'health': 490, 'mana': 334, 'melee': 550, 'armor': 18.72}"
      ]
     },
     "execution_count": 45,
     "metadata": {},
     "output_type": "execute_result"
    }
   ],
   "source": [
    "lux1 = dict(health=490, mana=334, melee=550, armor=18.72)\n",
    "lux1                        # 키=값 형식으로 딕셔너리를 만듦\n",
    "#이런식으로 딕셔너리를 형성하는것도 가능하다. \n",
    "# 단, dict를 사용할때는 큰따음포\"\"\"를 사용하지 않아야 한다."
   ]
  },
  {
   "cell_type": "code",
   "execution_count": 46,
   "metadata": {},
   "outputs": [],
   "source": [
    "lux2 = dict(zip(['helth', 'mana', 'melee', 'armor'], [490, 334, 550, 18,72]))\n",
    "#zip 함수로 키리스트와 값리스트를 묶음"
   ]
  },
  {
   "cell_type": "code",
   "execution_count": 47,
   "metadata": {},
   "outputs": [
    {
     "data": {
      "text/plain": [
       "{'health': 490, 'mana': 334, 'melee': 550, 'armor': 18.72}"
      ]
     },
     "execution_count": 47,
     "metadata": {},
     "output_type": "execute_result"
    }
   ],
   "source": [
    "lux3 = dict([('health', 490), ('mana', 334), ('melee', 550), ('armor', 18.72)])\n",
    "lux3        #리스트 안에 (키, 값) 형식의 튜플을 나열하는 방법"
   ]
  },
  {
   "cell_type": "code",
   "execution_count": 48,
   "metadata": {},
   "outputs": [
    {
     "data": {
      "text/plain": [
       "{'health': 490, 'mana': 334, 'melee': 550, 'armor': 18.72}"
      ]
     },
     "execution_count": 48,
     "metadata": {},
     "output_type": "execute_result"
    }
   ],
   "source": [
    "lux4 = dict({'health': 490, 'mana': 334, 'melee': 550, 'armor': 18.72})\n",
    "lux4 # dict안에서 중괄호로 딕셔너리를 만듬"
   ]
  },
  {
   "cell_type": "code",
   "execution_count": 49,
   "metadata": {},
   "outputs": [
    {
     "data": {
      "text/plain": [
       "490"
      ]
     },
     "execution_count": 49,
     "metadata": {},
     "output_type": "execute_result"
    }
   ],
   "source": [
    "lux = {'health': 490, 'mana': 334, 'melee': 550, 'armor': 18.72}\n",
    "lux['health'] \n",
    "#딕셔너리 키에 접근할때는 딕셔너리뒤에 대괄호[]를 사용하여 키를 지정한다.\n",
    "#키를 지정하지않으면 딕셔너리 전체가 출력된다."
   ]
  },
  {
   "cell_type": "code",
   "execution_count": 50,
   "metadata": {},
   "outputs": [
    {
     "data": {
      "text/plain": [
       "{'health': 2037, 'mana': 1184, 'melee': 550, 'armor': 18.72}"
      ]
     },
     "execution_count": 50,
     "metadata": {},
     "output_type": "execute_result"
    }
   ],
   "source": [
    "lux = {'health': 490, 'mana': 334, 'melee': 550, 'armor': 18.72}\n",
    "lux['health'] = 2037  #health의 값을 2037로 변경한다 \n",
    "lux['mana'] = 1184    #mana의 값을 1184로 변경한다.\n",
    "lux                   #없는키에 값을 지정하면 에러가 발생한다."
   ]
  },
  {
   "cell_type": "code",
   "execution_count": 51,
   "metadata": {},
   "outputs": [
    {
     "data": {
      "text/plain": [
       "True"
      ]
     },
     "execution_count": 51,
     "metadata": {},
     "output_type": "execute_result"
    }
   ],
   "source": [
    "lux = {'health': 490, 'mana': 334, 'melee': 550, 'armor': 18.72}\n",
    "'health' in lux         #in연산자는 키가 있는지 확인한다."
   ]
  },
  {
   "cell_type": "code",
   "execution_count": 52,
   "metadata": {},
   "outputs": [
    {
     "data": {
      "text/plain": [
       "True"
      ]
     },
     "execution_count": 52,
     "metadata": {},
     "output_type": "execute_result"
    }
   ],
   "source": [
    "'attack_speed' not in lux\n",
    "#in 연산자 앞에 not을 붙이면 해당 연산자가 없는지 확인한다."
   ]
  },
  {
   "cell_type": "code",
   "execution_count": 53,
   "metadata": {},
   "outputs": [
    {
     "data": {
      "text/plain": [
       "4"
      ]
     },
     "execution_count": 53,
     "metadata": {},
     "output_type": "execute_result"
    }
   ],
   "source": [
    "len(lux)\n",
    "#len()은 키의 개수를 구함"
   ]
  },
  {
   "cell_type": "code",
   "execution_count": 59,
   "metadata": {},
   "outputs": [
    {
     "name": "stdout",
     "output_type": "stream",
     "text": [
      "{}\n"
     ]
    }
   ],
   "source": [
    "#심사문제1\n",
    "x = input().split()\n",
    "y = map(float,input().split())\n",
    "lux=dict(zip(x,y))\n",
    "print(lux)"
   ]
  },
  {
   "cell_type": "code",
   "execution_count": null,
   "metadata": {},
   "outputs": [],
   "source": []
  }
 ],
 "metadata": {
  "interpreter": {
   "hash": "424e5a8e9830ef3583904a5a9b45d3a53cb22c3406bea742965336731d83af08"
  },
  "kernelspec": {
   "display_name": "Python 3.8.8 64-bit ('base': conda)",
   "language": "python",
   "name": "python3"
  },
  "language_info": {
   "codemirror_mode": {
    "name": "ipython",
    "version": 3
   },
   "file_extension": ".py",
   "mimetype": "text/x-python",
   "name": "python",
   "nbconvert_exporter": "python",
   "pygments_lexer": "ipython3",
   "version": "3.8.8"
  },
  "orig_nbformat": 4
 },
 "nbformat": 4,
 "nbformat_minor": 2
}
