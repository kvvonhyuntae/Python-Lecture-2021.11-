{
 "cells": [
  {
   "cell_type": "code",
   "execution_count": null,
   "id": "cb147973",
   "metadata": {},
   "outputs": [],
   "source": [
    "a = 10\n",
    "b = 20"
   ]
  },
  {
   "cell_type": "code",
   "execution_count": 3,
   "id": "e78328a9",
   "metadata": {},
   "outputs": [
    {
     "data": {
      "text/plain": [
       "[38, 21, 53, 62, 19]"
      ]
     },
     "execution_count": 3,
     "metadata": {},
     "output_type": "execute_result"
    }
   ],
   "source": [
    "a = [38, 21, 53, 62, 19]\n",
    "a\n",
    "#리스트를 만들때는 대괄호를사용해서 생성한뒤 콤마, 를사용해 구분한다.\n",
    "#리스트안에 저장된 각각의 값을 요소라고 부른다\n",
    "#리스트안에는 여러가지 자료를 섞어서 저장하는것도 가능하다"
   ]
  },
  {
   "cell_type": "code",
   "execution_count": 4,
   "id": "d0588591",
   "metadata": {},
   "outputs": [
    {
     "data": {
      "text/plain": [
       "[]"
      ]
     },
     "execution_count": 4,
     "metadata": {},
     "output_type": "execute_result"
    }
   ],
   "source": [
    "a =  []\n",
    "a"
   ]
  },
  {
   "cell_type": "code",
   "execution_count": 6,
   "id": "d55a24f9",
   "metadata": {},
   "outputs": [
    {
     "data": {
      "text/plain": [
       "[]"
      ]
     },
     "execution_count": 6,
     "metadata": {},
     "output_type": "execute_result"
    }
   ],
   "source": [
    "b = list()\n",
    "b\n",
    "#빈리스트를 만들때는 비어있는 대괄호 []만 표시하거나 list()를 사용한다."
   ]
  },
  {
   "cell_type": "code",
   "execution_count": 8,
   "id": "cbeda39d",
   "metadata": {},
   "outputs": [
    {
     "data": {
      "text/plain": [
       "range(0, 10)"
      ]
     },
     "execution_count": 8,
     "metadata": {},
     "output_type": "execute_result"
    }
   ],
   "source": [
    "range(10)\n",
    "#range(횟수)"
   ]
  },
  {
   "cell_type": "code",
   "execution_count": 10,
   "id": "eb16b214",
   "metadata": {},
   "outputs": [
    {
     "data": {
      "text/plain": [
       "[0, 1, 2, 3, 4, 5, 6, 7, 8, 9]"
      ]
     },
     "execution_count": 10,
     "metadata": {},
     "output_type": "execute_result"
    }
   ],
   "source": [
    "a = list(range(10))\n",
    "a\n",
    "#빈리스트를 생성한뒤 range를 사용해 값을 저장"
   ]
  },
  {
   "cell_type": "code",
   "execution_count": 13,
   "id": "6325769c",
   "metadata": {},
   "outputs": [
    {
     "data": {
      "text/plain": [
       "[5, 6, 7, 8, 9, 10, 11]"
      ]
     },
     "execution_count": 13,
     "metadata": {},
     "output_type": "execute_result"
    }
   ],
   "source": [
    "b = list(range(5, 12))\n",
    "b\n",
    "#range(시작, 끝)"
   ]
  },
  {
   "cell_type": "code",
   "execution_count": 15,
   "id": "902d751f",
   "metadata": {},
   "outputs": [
    {
     "data": {
      "text/plain": [
       "[-4, -2, 0, 2, 4, 6, 8]"
      ]
     },
     "execution_count": 15,
     "metadata": {},
     "output_type": "execute_result"
    }
   ],
   "source": [
    "c = list(range(-4, 10, 2))\n",
    "c\n",
    "#list(range(시작, 끝, 증가폭))"
   ]
  },
  {
   "cell_type": "code",
   "execution_count": 17,
   "id": "15c00a20",
   "metadata": {},
   "outputs": [
    {
     "data": {
      "text/plain": [
       "[10, 9, 8, 7, 6, 5, 4, 3, 2, 1]"
      ]
     },
     "execution_count": 17,
     "metadata": {},
     "output_type": "execute_result"
    }
   ],
   "source": [
    "d = list(range(10, 0, -1))\n",
    "d\n",
    "#증가폭을 음수로 지정하면 해당값만큼 숫자가 감소한다."
   ]
  },
  {
   "cell_type": "markdown",
   "id": "63284f0e",
   "metadata": {},
   "source": [
    "# 튜플 // 읽기전용 리스트(저장된 요소를 변경하거나 추가하거나 삭제할수없다)"
   ]
  },
  {
   "cell_type": "code",
   "execution_count": 19,
   "id": "2451dd63",
   "metadata": {},
   "outputs": [
    {
     "data": {
      "text/plain": [
       "(38, 21, 53, 62, 19)"
      ]
     },
     "execution_count": 19,
     "metadata": {},
     "output_type": "execute_result"
    }
   ],
   "source": [
    "a = (38, 21, 53, 62, 19)\n",
    "a\n",
    "#튜플은 변수에 값을 저장할때 괄호()를 사용하며 콤마,를 사용해 요소를 구분한다."
   ]
  },
  {
   "cell_type": "code",
   "execution_count": 22,
   "id": "bfb907b2",
   "metadata": {},
   "outputs": [
    {
     "data": {
      "text/plain": [
       "(38, 21, 53, 62, 19)"
      ]
     },
     "execution_count": 22,
     "metadata": {},
     "output_type": "execute_result"
    }
   ],
   "source": [
    "a = 38, 21, 53, 62, 19\n",
    "a\n",
    "#괄호를 사용하지 않아도 튜플은 생성된다.\n",
    "#튜플도 리스트처럼 여러가지 자료를 섞어서 저장할수있음"
   ]
  },
  {
   "cell_type": "code",
   "execution_count": 24,
   "id": "0758a772",
   "metadata": {},
   "outputs": [
    {
     "data": {
      "text/plain": [
       "(0, 1, 2, 3, 4, 5, 6, 7, 8, 9)"
      ]
     },
     "execution_count": 24,
     "metadata": {},
     "output_type": "execute_result"
    }
   ],
   "source": [
    "a = tuple(range(10))\n",
    "a\n",
    "#tuple안에 range를 사용해 값을 저장할수있음"
   ]
  },
  {
   "cell_type": "code",
   "execution_count": 26,
   "id": "e40fc957",
   "metadata": {},
   "outputs": [
    {
     "data": {
      "text/plain": [
       "(5, 6, 7, 8, 9, 10, 11)"
      ]
     },
     "execution_count": 26,
     "metadata": {},
     "output_type": "execute_result"
    }
   ],
   "source": [
    "b = tuple(range(5, 12))\n",
    "b\n",
    "#tuple(range(시작, 끝))"
   ]
  },
  {
   "cell_type": "code",
   "execution_count": 28,
   "id": "2ff88b65",
   "metadata": {},
   "outputs": [
    {
     "data": {
      "text/plain": [
       "(-4, -2, 0, 2, 4, 6, 8)"
      ]
     },
     "execution_count": 28,
     "metadata": {},
     "output_type": "execute_result"
    }
   ],
   "source": [
    "c = tuple(range(-4, 10, 2))\n",
    "c\n",
    "#tuple(range(시작, 끝, 증가폭))"
   ]
  },
  {
   "cell_type": "code",
   "execution_count": 30,
   "id": "efc6f591",
   "metadata": {},
   "outputs": [
    {
     "data": {
      "text/plain": [
       "(1, 2, 3)"
      ]
     },
     "execution_count": 30,
     "metadata": {},
     "output_type": "execute_result"
    }
   ],
   "source": [
    "a = [1, 2, 3]\n",
    "tuple(a)\n",
    "#tuple안에 리스트를 넣으면 새 튜플이 생깁니다"
   ]
  },
  {
   "cell_type": "code",
   "execution_count": 32,
   "id": "7592ea24",
   "metadata": {},
   "outputs": [
    {
     "data": {
      "text/plain": [
       "[1, 2, 3]"
      ]
     },
     "execution_count": 32,
     "metadata": {},
     "output_type": "execute_result"
    }
   ],
   "source": [
    "a = (1, 2, 3)\n",
    "list(a)\n",
    "#반대로 튜플안에 리스트를 넣으면 새로운 리스트가 생성된다."
   ]
  },
  {
   "cell_type": "code",
   "execution_count": 37,
   "id": "bfe763ff",
   "metadata": {},
   "outputs": [
    {
     "data": {
      "text/plain": [
       "('H', 'e', 'l', 'l', 'o')"
      ]
     },
     "execution_count": 37,
     "metadata": {},
     "output_type": "execute_result"
    }
   ],
   "source": [
    "list('Hello')\n",
    "tuple('Hello')\n",
    "#리스트와 튜플안에 문자열을 넣으면 문자리스트, 문자 튜플이 생성됨"
   ]
  },
  {
   "cell_type": "code",
   "execution_count": 42,
   "id": "5d6f8b27",
   "metadata": {},
   "outputs": [
    {
     "name": "stdout",
     "output_type": "stream",
     "text": [
      "1 2 3\n",
      "4 5 6\n"
     ]
    }
   ],
   "source": [
    "a,b,c=[1,2,3]\n",
    "print(a,b,c)\n",
    "d,e,f = (4,5,6)\n",
    "print(d,e,f)\n",
    "#리스트와 튜플을 한번에 사용하면 변수 여러개를 한번에 생성할수있다.\n",
    "#이때 변수의 갯수와 리스트(튜플)의 갯수는같아야함"
   ]
  },
  {
   "cell_type": "code",
   "execution_count": 44,
   "id": "52baaeff",
   "metadata": {},
   "outputs": [
    {
     "name": "stdout",
     "output_type": "stream",
     "text": [
      "1 2 3\n"
     ]
    }
   ],
   "source": [
    "x = [1,2,3]\n",
    "a,b,c = x\n",
    "print(a, b,c)"
   ]
  },
  {
   "cell_type": "code",
   "execution_count": 45,
   "id": "86758822",
   "metadata": {},
   "outputs": [
    {
     "name": "stdout",
     "output_type": "stream",
     "text": [
      "4 5 6\n"
     ]
    }
   ],
   "source": [
    "y = (4,5,6)\n",
    "d,e,f = y\n",
    "print(d,e,f)\n",
    "#리스트와 튜플을 사용해서 변수를 여러개 만들수 있다.\n",
    "#리스트와 튜플의 요소를 변수 여러개에 할당하는것을 \n",
    "#리스트 언패킹//튜플 언패킹이라고 함"
   ]
  },
  {
   "cell_type": "code",
   "execution_count": 46,
   "id": "c2e1b7e1",
   "metadata": {},
   "outputs": [
    {
     "name": "stdout",
     "output_type": "stream",
     "text": [
      "10 20\n"
     ]
    },
    {
     "data": {
      "text/plain": [
       "['10', '20']"
      ]
     },
     "execution_count": 46,
     "metadata": {},
     "output_type": "execute_result"
    }
   ],
   "source": [
    "input().split()"
   ]
  },
  {
   "cell_type": "code",
   "execution_count": 47,
   "id": "ca969821",
   "metadata": {},
   "outputs": [
    {
     "name": "stdout",
     "output_type": "stream",
     "text": [
      "10 20\n"
     ]
    }
   ],
   "source": [
    "x = input().split()"
   ]
  },
  {
   "cell_type": "code",
   "execution_count": 48,
   "id": "b3b96bb1",
   "metadata": {},
   "outputs": [
    {
     "name": "stdout",
     "output_type": "stream",
     "text": [
      "10 20\n"
     ]
    }
   ],
   "source": [
    "a, b = x\n",
    "print(a,b)\n",
    "#input().split()은 리스트를 반환한다.\n",
    "#리스트 언패킹 형힉으로 입력값을 여러개에 저장한다"
   ]
  },
  {
   "cell_type": "code",
   "execution_count": 49,
   "id": "a786d668",
   "metadata": {},
   "outputs": [],
   "source": [
    "a = [1, 2, 3] #리스트패킹\n",
    "b = (1, 2, 3) #튜플패킹\n",
    "c = 1, 2, 3 #튜플패킹\n"
   ]
  },
  {
   "cell_type": "code",
   "execution_count": 50,
   "id": "6752e5f9",
   "metadata": {},
   "outputs": [
    {
     "name": "stdout",
     "output_type": "stream",
     "text": [
      "[5, 3, 1, -1, -3, -5, -7, -9]\n"
     ]
    }
   ],
   "source": [
    "a = list(range(5,-10,-2))\n",
    "print(a)"
   ]
  },
  {
   "cell_type": "code",
   "execution_count": null,
   "id": "0128bd02",
   "metadata": {},
   "outputs": [],
   "source": []
  },
  {
   "cell_type": "code",
   "execution_count": null,
   "id": "e36c03f0",
   "metadata": {},
   "outputs": [],
   "source": [
    "a = input().split()"
   ]
  },
  {
   "cell_type": "code",
   "execution_count": null,
   "id": "b96031ea",
   "metadata": {},
   "outputs": [],
   "source": [
    "step = int(input().split())\n",
    "print(tuple(range(-10,10,step))"
   ]
  },
  {
   "cell_type": "code",
   "execution_count": null,
   "id": "4797455f",
   "metadata": {},
   "outputs": [],
   "source": []
  }
 ],
 "metadata": {
  "kernelspec": {
   "display_name": "Python 3",
   "language": "python",
   "name": "python3"
  },
  "language_info": {
   "codemirror_mode": {
    "name": "ipython",
    "version": 3
   },
   "file_extension": ".py",
   "mimetype": "text/x-python",
   "name": "python",
   "nbconvert_exporter": "python",
   "pygments_lexer": "ipython3",
   "version": "3.8.8"
  }
 },
 "nbformat": 4,
 "nbformat_minor": 5
}
