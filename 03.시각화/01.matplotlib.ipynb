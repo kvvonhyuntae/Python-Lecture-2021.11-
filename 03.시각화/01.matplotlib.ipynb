{
 "cells": [
  {
   "cell_type": "markdown",
   "metadata": {},
   "source": [
    "# 데이터 시각화 - Matplotlib"
   ]
  },
  {
   "cell_type": "code",
   "execution_count": 9,
   "metadata": {},
   "outputs": [],
   "source": [
    "import matplotlib.pyplot as plt\n",
    "%matplotlib inline"
   ]
  },
  {
   "cell_type": "code",
   "execution_count": 32,
   "metadata": {},
   "outputs": [
    {
     "data": {
      "image/png": "[encoded data removed]",
      "text/plain": [
       "<Figure size 432x288 with 1 Axes>"
      ]
     },
     "metadata": {
      "needs_background": "light"
     },
     "output_type": "display_data"
    }
   ],
   "source": [
    "plt.plot([0, 1, 2, 3],[0, 1, 4, 9]) # x값, y값 리스트\n",
    "plt.title('2021 부동산 상승률')              #제목\n",
    "plt.grid()                          #격자 라인\n",
    "plt.show()                          #합쳐서 화면에 보이게함"
   ]
  },
  {
   "cell_type": "markdown",
   "metadata": {},
   "source": [
    "- 한글 설정하는 방법"
   ]
  },
  {
   "cell_type": "code",
   "execution_count": 21,
   "metadata": {},
   "outputs": [],
   "source": [
    "import matplotlib as mpl\n",
    "import matplotlib.font_manager as fm"
   ]
  },
  {
   "cell_type": "code",
   "execution_count": 31,
   "metadata": {},
   "outputs": [],
   "source": [
    "#가장먼저 설정할것※\n",
    "mpl.rcParams['axes.unicode_minus'] = False\n",
    "[(f.name, f.fname) for f in fm.fontManager.ttflist if 'Malgun' in f.name]\n",
    "plt.rcParams['font.family']= 'Malgun Gothic'"
   ]
  },
  {
   "cell_type": "code",
   "execution_count": 34,
   "metadata": {},
   "outputs": [],
   "source": [
    "#!apt-get install -y fonts-nanum > /dev/null\n",
    "#!fc-cache -fv > /dev/null\n",
    "#!rm -rf ~/.cache/matplotlib > dev/null\n",
    "#//colab에서는 한글설정하기전에 폰트를 먼저 설치를 해야한다//#\n",
    "#설치한 이후 런타임 다시 시작#\n",
    "#mpl.rcParams['axes.unicode_minus'] = False\n",
    "#[(f.name, f.fname) for f in fm.fontManager.ttflist if 'Malgun' in f.name]\n",
    "#plt.rcParams['font.family']= 'NanumBarun Gothic'"
   ]
  },
  {
   "cell_type": "code",
   "execution_count": null,
   "metadata": {},
   "outputs": [],
   "source": []
  }
 ],
 "metadata": {
  "interpreter": {
   "hash": "9a35ec9f607b12d73097b223a195964bd5e56918c8a2b6441703592dc5ca306e"
  },
  "kernelspec": {
   "display_name": "Python 3.8.8 64-bit ('base': conda)",
   "language": "python",
   "name": "python3"
  },
  "language_info": {
   "codemirror_mode": {
    "name": "ipython",
    "version": 3
   },
   "file_extension": ".py",
   "mimetype": "text/x-python",
   "name": "python",
   "nbconvert_exporter": "python",
   "pygments_lexer": "ipython3",
   "version": "3.8.8"
  },
  "orig_nbformat": 4
 },
 "nbformat": 4,
 "nbformat_minor": 2
}
