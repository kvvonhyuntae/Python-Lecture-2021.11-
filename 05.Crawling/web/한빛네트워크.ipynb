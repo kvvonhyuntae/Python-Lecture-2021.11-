{
 "cells": [
  {
   "cell_type": "code",
   "execution_count": 501,
   "metadata": {},
   "outputs": [],
   "source": [
    "import requests\n",
    "from urllib.parse import quote\n",
    "import pandas as pd\n",
    "from bs4 import BeautifulSoup\n",
    "import re"
   ]
  },
  {
   "cell_type": "code",
   "execution_count": 502,
   "metadata": {},
   "outputs": [],
   "source": [
    "site = 'https://www.hanbit.co.kr/'\n",
    "url = f'{site}store/books/new_book_list.html'\n",
    "req = requests.get(url)\n",
    "html = req.text\n",
    "#html"
   ]
  },
  {
   "cell_type": "code",
   "execution_count": 503,
   "metadata": {},
   "outputs": [],
   "source": [
    "soup = BeautifulSoup(html, 'html.parser')"
   ]
  },
  {
   "cell_type": "code",
   "execution_count": 504,
   "metadata": {},
   "outputs": [
    {
     "data": {
      "text/plain": [
       "20"
      ]
     },
     "execution_count": 504,
     "metadata": {},
     "output_type": "execute_result"
    }
   ],
   "source": [
    "lis = soup.select('div.sub_book_list_area>li')\n",
    "len(lis)"
   ]
  },
  {
   "cell_type": "code",
   "execution_count": 505,
   "metadata": {},
   "outputs": [
    {
     "data": {
      "text/plain": [
       "'/store/books/look.php?p_code=B6972407557'"
      ]
     },
     "execution_count": 505,
     "metadata": {},
     "output_type": "execute_result"
    }
   ],
   "source": [
    "li = lis[1]\n",
    "href = li.find('a')['href']\n",
    "href"
   ]
  },
  {
   "cell_type": "code",
   "execution_count": 506,
   "metadata": {},
   "outputs": [
    {
     "data": {
      "text/plain": [
       "'다시, 배우다'"
      ]
     },
     "execution_count": 506,
     "metadata": {},
     "output_type": "execute_result"
    }
   ],
   "source": [
    "#제목\n",
    "book_tit = li.select_one('.book_tit').get_text()\n",
    "book_tit"
   ]
  },
  {
   "cell_type": "code",
   "execution_count": 507,
   "metadata": {},
   "outputs": [
    {
     "data": {
      "text/plain": [
       "'폴 김 '"
      ]
     },
     "execution_count": 507,
     "metadata": {},
     "output_type": "execute_result"
    }
   ],
   "source": [
    "#저자\n",
    "book_writer = li.select_one('.book_writer').get_text()\n",
    "book_writer"
   ]
  },
  {
   "cell_type": "code",
   "execution_count": 508,
   "metadata": {},
   "outputs": [
    {
     "data": {
      "text/plain": [
       "'https://www.hanbit.co.kr//store/books/look.php?p_code=B6972407557'"
      ]
     },
     "execution_count": 508,
     "metadata": {},
     "output_type": "execute_result"
    }
   ],
   "source": [
    "sub_url = site + href\n",
    "sub_url"
   ]
  },
  {
   "cell_type": "code",
   "execution_count": 509,
   "metadata": {},
   "outputs": [],
   "source": [
    "sub_req = requests.get(sub_url)\n",
    "sub_html = sub_req.text\n",
    "sub_soup = BeautifulSoup(sub_html, 'html.parser')"
   ]
  },
  {
   "cell_type": "code",
   "execution_count": 510,
   "metadata": {},
   "outputs": [
    {
     "data": {
      "text/plain": [
       "'폴 김 '"
      ]
     },
     "execution_count": 510,
     "metadata": {},
     "output_type": "execute_result"
    }
   ],
   "source": [
    "#역자\n",
    "trans= sub_soup.select('.info_list>li>span')\n",
    "trans= trans[-5].get_text()\n",
    "trans"
   ]
  },
  {
   "cell_type": "code",
   "execution_count": 587,
   "metadata": {},
   "outputs": [
    {
     "data": {
      "text/plain": [
       "'20211102'"
      ]
     },
     "execution_count": 587,
     "metadata": {},
     "output_type": "execute_result"
    }
   ],
   "source": [
    "#출간일\n",
    "day = sub_soup.select_one('.info_list').get_text().split('\\n')\n",
    "day = day[1:][1]\n",
    "day = re.sub('[^0-9]','',day)\n",
    "day\n"
   ]
  },
  {
   "cell_type": "code",
   "execution_count": 512,
   "metadata": {},
   "outputs": [
    {
     "data": {
      "text/plain": [
       "304"
      ]
     },
     "execution_count": 512,
     "metadata": {},
     "output_type": "execute_result"
    }
   ],
   "source": [
    "#페이지\n",
    "page= sub_soup.select('.info_list>li>span')[-3].get_text()\n",
    "page = int(re.sub('[^0-9]','',page))\n",
    "page"
   ]
  },
  {
   "cell_type": "code",
   "execution_count": 513,
   "metadata": {},
   "outputs": [
    {
     "data": {
      "text/plain": [
       "16000"
      ]
     },
     "execution_count": 513,
     "metadata": {},
     "output_type": "execute_result"
    }
   ],
   "source": [
    "#정가\n",
    "mon = sub_soup.select('.payment_box.curr>p')[0].get_text()\n",
    "mon = int(re.sub('[^0-9]','',mon))\n",
    "mon"
   ]
  },
  {
   "cell_type": "code",
   "execution_count": 514,
   "metadata": {},
   "outputs": [
    {
     "data": {
      "text/plain": [
       "1440010"
      ]
     },
     "execution_count": 514,
     "metadata": {},
     "output_type": "execute_result"
    }
   ],
   "source": [
    "#할인가\n",
    "disc = sub_soup.select('.payment_box.curr>p')[1].get_text()\n",
    "disc = int(re.sub('[^0-9]','',disc))\n",
    "disc"
   ]
  },
  {
   "cell_type": "code",
   "execution_count": 515,
   "metadata": {},
   "outputs": [
    {
     "data": {
      "text/plain": [
       "8005"
      ]
     },
     "execution_count": 515,
     "metadata": {},
     "output_type": "execute_result"
    }
   ],
   "source": [
    "mil = sub_soup.select('.payment_box.curr>p')[2].get_text()\n",
    "mil = int(re.sub('[^0-9]','',mil))\n",
    "mil"
   ]
  },
  {
   "cell_type": "code",
   "execution_count": 521,
   "metadata": {},
   "outputs": [
    {
     "data": {
      "text/html": [
       "<div>\n",
       "<style scoped>\n",
       "    .dataframe tbody tr th:only-of-type {\n",
       "        vertical-align: middle;\n",
       "    }\n",
       "\n",
       "    .dataframe tbody tr th {\n",
       "        vertical-align: top;\n",
       "    }\n",
       "\n",
       "    .dataframe thead th {\n",
       "        text-align: right;\n",
       "    }\n",
       "</style>\n",
       "<table border=\"1\" class=\"dataframe\">\n",
       "  <thead>\n",
       "    <tr style=\"text-align: right;\">\n",
       "      <th></th>\n",
       "      <th>제목</th>\n",
       "      <th>저자</th>\n",
       "      <th>역자</th>\n",
       "      <th>출간일</th>\n",
       "      <th>페이지</th>\n",
       "      <th>정가</th>\n",
       "      <th>할인가</th>\n",
       "      <th>마일리지</th>\n",
       "    </tr>\n",
       "  </thead>\n",
       "  <tbody>\n",
       "    <tr>\n",
       "      <th>0</th>\n",
       "      <td>하루 한 장 초등과학 365</td>\n",
       "      <td>치바 가즈요시</td>\n",
       "      <td>허영은 , 유우종 (감수)</td>\n",
       "      <td>20211214</td>\n",
       "      <td>416</td>\n",
       "      <td>19800</td>\n",
       "      <td>1782010</td>\n",
       "      <td>9905</td>\n",
       "    </tr>\n",
       "    <tr>\n",
       "      <th>1</th>\n",
       "      <td>다시, 배우다</td>\n",
       "      <td>폴 김</td>\n",
       "      <td>폴 김</td>\n",
       "      <td>20211210</td>\n",
       "      <td>304</td>\n",
       "      <td>16000</td>\n",
       "      <td>1440010</td>\n",
       "      <td>8005</td>\n",
       "    </tr>\n",
       "    <tr>\n",
       "      <th>2</th>\n",
       "      <td>당당한 디자인 결정을 위한 9가지 방법</td>\n",
       "      <td>톰 그리버</td>\n",
       "      <td>김민성 , 곽서희</td>\n",
       "      <td>20211210</td>\n",
       "      <td>376</td>\n",
       "      <td>22000</td>\n",
       "      <td>1980010</td>\n",
       "      <td>11005</td>\n",
       "    </tr>\n",
       "    <tr>\n",
       "      <th>3</th>\n",
       "      <td>365 부모 말하기 연습 일력(스프링북)</td>\n",
       "      <td>박재연 , 공인영</td>\n",
       "      <td>박재연 , 공인영</td>\n",
       "      <td>20211201</td>\n",
       "      <td>384</td>\n",
       "      <td>18000</td>\n",
       "      <td>1620010</td>\n",
       "      <td>9005</td>\n",
       "    </tr>\n",
       "    <tr>\n",
       "      <th>4</th>\n",
       "      <td>공학도를 위한 수치해석(8판)</td>\n",
       "      <td>Steven C.Chapra , Raymond P. Canale</td>\n",
       "      <td>나양 , 이승배 , 임윤철</td>\n",
       "      <td>20211130</td>\n",
       "      <td>600</td>\n",
       "      <td>36000</td>\n",
       "      <td>360000</td>\n",
       "      <td>10803</td>\n",
       "    </tr>\n",
       "    <tr>\n",
       "      <th>5</th>\n",
       "      <td>엑셀 매크로&amp;VBA 업무 공략집</td>\n",
       "      <td>최준선</td>\n",
       "      <td>최준선</td>\n",
       "      <td>20211130</td>\n",
       "      <td>328</td>\n",
       "      <td>22000</td>\n",
       "      <td>1980010</td>\n",
       "      <td>11005</td>\n",
       "    </tr>\n",
       "    <tr>\n",
       "      <th>6</th>\n",
       "      <td>데이터 과학자 되는 법</td>\n",
       "      <td>에밀리 로빈슨 , 재클린 놀리스</td>\n",
       "      <td>이창화</td>\n",
       "      <td>20211126</td>\n",
       "      <td>372</td>\n",
       "      <td>24000</td>\n",
       "      <td>2160010</td>\n",
       "      <td>12005</td>\n",
       "    </tr>\n",
       "    <tr>\n",
       "      <th>7</th>\n",
       "      <td>돈 되는 기획</td>\n",
       "      <td>김도균</td>\n",
       "      <td>김도균</td>\n",
       "      <td>20211126</td>\n",
       "      <td>240</td>\n",
       "      <td>14500</td>\n",
       "      <td>1305010</td>\n",
       "      <td>7255</td>\n",
       "    </tr>\n",
       "    <tr>\n",
       "      <th>8</th>\n",
       "      <td>빠르게 찾아 바로 적용하는 엑셀 에센스 사전 100</td>\n",
       "      <td>한은숙</td>\n",
       "      <td>한은숙</td>\n",
       "      <td>20211125</td>\n",
       "      <td>300</td>\n",
       "      <td>18000</td>\n",
       "      <td>1620010</td>\n",
       "      <td>9005</td>\n",
       "    </tr>\n",
       "    <tr>\n",
       "      <th>9</th>\n",
       "      <td>초등 어휘력이 공부력이다</td>\n",
       "      <td>박명선</td>\n",
       "      <td>박명선</td>\n",
       "      <td>20211125</td>\n",
       "      <td>412</td>\n",
       "      <td>18000</td>\n",
       "      <td>1620010</td>\n",
       "      <td>9005</td>\n",
       "    </tr>\n",
       "    <tr>\n",
       "      <th>10</th>\n",
       "      <td>만화로 배우는 의학의 역사(개정판)</td>\n",
       "      <td>장 노엘 파비아니 , 필리프 베르코비치 , 김모 , 조한나</td>\n",
       "      <td>2021-11-15</td>\n",
       "      <td>296</td>\n",
       "      <td>9791157845484</td>\n",
       "      <td>20800</td>\n",
       "      <td>1872010</td>\n",
       "      <td>10405</td>\n",
       "    </tr>\n",
       "    <tr>\n",
       "      <th>11</th>\n",
       "      <td>스토리텔링 우동이즘의 잘 팔리는 웹툰, 웹소설 이야기 만들기</td>\n",
       "      <td>우동이즘(이동우)</td>\n",
       "      <td>우동이즘(이동우)</td>\n",
       "      <td>20211115</td>\n",
       "      <td>232</td>\n",
       "      <td>16000</td>\n",
       "      <td>1440010</td>\n",
       "      <td>8005</td>\n",
       "    </tr>\n",
       "    <tr>\n",
       "      <th>12</th>\n",
       "      <td>중학교 입학 가이드</td>\n",
       "      <td>배혜림</td>\n",
       "      <td>배혜림</td>\n",
       "      <td>20211111</td>\n",
       "      <td>376</td>\n",
       "      <td>16500</td>\n",
       "      <td>1485010</td>\n",
       "      <td>8255</td>\n",
       "    </tr>\n",
       "    <tr>\n",
       "      <th>13</th>\n",
       "      <td>보고서 작성 실무 강의(개정판)</td>\n",
       "      <td>홍장표</td>\n",
       "      <td>2021-11-08</td>\n",
       "      <td>400</td>\n",
       "      <td>9791162244890</td>\n",
       "      <td>18000</td>\n",
       "      <td>1620010</td>\n",
       "      <td>9005</td>\n",
       "    </tr>\n",
       "    <tr>\n",
       "      <th>14</th>\n",
       "      <td>비겁한 돈</td>\n",
       "      <td>황현희 , 제갈현열</td>\n",
       "      <td>황현희 , 제갈현열</td>\n",
       "      <td>20211108</td>\n",
       "      <td>248</td>\n",
       "      <td>16000</td>\n",
       "      <td>1440010</td>\n",
       "      <td>8005</td>\n",
       "    </tr>\n",
       "    <tr>\n",
       "      <th>15</th>\n",
       "      <td>나도 영문 손글씨 잘 쓰면 소원이 없겠네</td>\n",
       "      <td>윤정희(리제 캘리그라피)</td>\n",
       "      <td>윤정희(리제 캘리그라피)</td>\n",
       "      <td>20211105</td>\n",
       "      <td>240</td>\n",
       "      <td>16800</td>\n",
       "      <td>1512010</td>\n",
       "      <td>8405</td>\n",
       "    </tr>\n",
       "    <tr>\n",
       "      <th>16</th>\n",
       "      <td>구글 BERT의 정석</td>\n",
       "      <td>수다르산 라비찬디란</td>\n",
       "      <td>전희원 , 정승환 , 김형준</td>\n",
       "      <td>20211103</td>\n",
       "      <td>368</td>\n",
       "      <td>34000</td>\n",
       "      <td>3060010</td>\n",
       "      <td>17005</td>\n",
       "    </tr>\n",
       "    <tr>\n",
       "      <th>17</th>\n",
       "      <td>1000개 숨은그림찾기 몬스터 : 찾아도 찾아도 끝판왕</td>\n",
       "      <td>김확실</td>\n",
       "      <td>김확실</td>\n",
       "      <td>20211102</td>\n",
       "      <td>96</td>\n",
       "      <td>8000</td>\n",
       "      <td>720010</td>\n",
       "      <td>4005</td>\n",
       "    </tr>\n",
       "    <tr>\n",
       "      <th>18</th>\n",
       "      <td>1000개 숨은그림찾기 보물찾기 : 찾아도 찾아도 끝판왕</td>\n",
       "      <td>전진희</td>\n",
       "      <td>전진희</td>\n",
       "      <td>20211102</td>\n",
       "      <td>96</td>\n",
       "      <td>8000</td>\n",
       "      <td>720010</td>\n",
       "      <td>4005</td>\n",
       "    </tr>\n",
       "    <tr>\n",
       "      <th>19</th>\n",
       "      <td>1000개 숨은그림찾기 탈것 : 찾아도 찾아도 끝판왕</td>\n",
       "      <td>이한이</td>\n",
       "      <td>이한이</td>\n",
       "      <td>20211102</td>\n",
       "      <td>96</td>\n",
       "      <td>8000</td>\n",
       "      <td>720010</td>\n",
       "      <td>4005</td>\n",
       "    </tr>\n",
       "  </tbody>\n",
       "</table>\n",
       "</div>"
      ],
      "text/plain": [
       "                                   제목                                   저자  \\\n",
       "0                     하루 한 장 초등과학 365                              치바 가즈요시   \n",
       "1                             다시, 배우다                                  폴 김   \n",
       "2               당당한 디자인 결정을 위한 9가지 방법                                톰 그리버   \n",
       "3              365 부모 말하기 연습 일력(스프링북)                            박재연 , 공인영   \n",
       "4                    공학도를 위한 수치해석(8판)  Steven C.Chapra , Raymond P. Canale   \n",
       "5                   엑셀 매크로&VBA 업무 공략집                                  최준선   \n",
       "6                        데이터 과학자 되는 법                    에밀리 로빈슨 , 재클린 놀리스   \n",
       "7                             돈 되는 기획                                  김도균   \n",
       "8        빠르게 찾아 바로 적용하는 엑셀 에센스 사전 100                                  한은숙   \n",
       "9                       초등 어휘력이 공부력이다                                  박명선   \n",
       "10                만화로 배우는 의학의 역사(개정판)     장 노엘 파비아니 , 필리프 베르코비치 , 김모 , 조한나   \n",
       "11  스토리텔링 우동이즘의 잘 팔리는 웹툰, 웹소설 이야기 만들기                            우동이즘(이동우)   \n",
       "12                         중학교 입학 가이드                                  배혜림   \n",
       "13                  보고서 작성 실무 강의(개정판)                                  홍장표   \n",
       "14                              비겁한 돈                           황현희 , 제갈현열   \n",
       "15             나도 영문 손글씨 잘 쓰면 소원이 없겠네                        윤정희(리제 캘리그라피)   \n",
       "16                        구글 BERT의 정석                           수다르산 라비찬디란   \n",
       "17     1000개 숨은그림찾기 몬스터 : 찾아도 찾아도 끝판왕                                  김확실   \n",
       "18    1000개 숨은그림찾기 보물찾기 : 찾아도 찾아도 끝판왕                                  전진희   \n",
       "19      1000개 숨은그림찾기 탈것 : 찾아도 찾아도 끝판왕                                  이한이   \n",
       "\n",
       "                 역자       출간일            페이지     정가      할인가   마일리지  \n",
       "0    허영은 , 유우종 (감수)  20211214            416  19800  1782010   9905  \n",
       "1               폴 김  20211210            304  16000  1440010   8005  \n",
       "2         김민성 , 곽서희  20211210            376  22000  1980010  11005  \n",
       "3         박재연 , 공인영  20211201            384  18000  1620010   9005  \n",
       "4    나양 , 이승배 , 임윤철  20211130            600  36000   360000  10803  \n",
       "5               최준선  20211130            328  22000  1980010  11005  \n",
       "6               이창화  20211126            372  24000  2160010  12005  \n",
       "7               김도균  20211126            240  14500  1305010   7255  \n",
       "8               한은숙  20211125            300  18000  1620010   9005  \n",
       "9               박명선  20211125            412  18000  1620010   9005  \n",
       "10       2021-11-15       296  9791157845484  20800  1872010  10405  \n",
       "11        우동이즘(이동우)  20211115            232  16000  1440010   8005  \n",
       "12              배혜림  20211111            376  16500  1485010   8255  \n",
       "13       2021-11-08       400  9791162244890  18000  1620010   9005  \n",
       "14       황현희 , 제갈현열  20211108            248  16000  1440010   8005  \n",
       "15    윤정희(리제 캘리그라피)  20211105            240  16800  1512010   8405  \n",
       "16  전희원 , 정승환 , 김형준  20211103            368  34000  3060010  17005  \n",
       "17              김확실  20211102             96   8000   720010   4005  \n",
       "18              전진희  20211102             96   8000   720010   4005  \n",
       "19              이한이  20211102             96   8000   720010   4005  "
      ]
     },
     "execution_count": 521,
     "metadata": {},
     "output_type": "execute_result"
    }
   ],
   "source": [
    "lines = []\n",
    "for li in lis:\n",
    "    href = li.find('a')['href']\n",
    "    book_tit = li.select_one('.book_tit').get_text().strip()\n",
    "    book_writer = li.select_one('.book_writer').get_text().strip()\n",
    "\n",
    "    sub_url = site + href\n",
    "    sub_req = requests.get(sub_url)\n",
    "    sub_html = sub_req.text\n",
    "    sub_soup = BeautifulSoup(sub_html,'html.parser')\n",
    "    trans= sub_soup.select('.info_list>li>span')[-5].get_text().strip()\n",
    "    day = sub_soup.select('.info_list>li>span')[-4].get_text().strip()\n",
    "    day = int(re.sub('[^0-9]','',day))\n",
    "    page= sub_soup.select('.info_list>li>span')[-3].get_text()\n",
    "    page = re.sub('[^0-9]','',page)\n",
    "    mon = sub_soup.select('.payment_box.curr>p')[0].get_text().strip()\n",
    "    mon = re.sub('[^0-9]','',mon)\n",
    "    disc = sub_soup.select('.payment_box.curr>p')[1].get_text().strip()\n",
    "    disc = re.sub('[^0-9]','',disc)\n",
    "    mil = sub_soup.select('.payment_box.curr>p')[2].get_text().strip()\n",
    "    mil = re.sub('[^0-9]','',mil)\n",
    "    lines.append([book_tit, book_writer, trans, day, page, mon, disc, mil])\n",
    "\n",
    "df = pd.DataFrame(lines, columns=['제목', '저자', '역자', '출간일', '페이지', '정가', '할인가', '마일리지'])\n",
    "df"
   ]
  },
  {
   "cell_type": "code",
   "execution_count": null,
   "metadata": {},
   "outputs": [],
   "source": []
  }
 ],
 "metadata": {
  "interpreter": {
   "hash": "9a35ec9f607b12d73097b223a195964bd5e56918c8a2b6441703592dc5ca306e"
  },
  "kernelspec": {
   "display_name": "Python 3.8.8 64-bit ('base': conda)",
   "language": "python",
   "name": "python3"
  },
  "language_info": {
   "codemirror_mode": {
    "name": "ipython",
    "version": 3
   },
   "file_extension": ".py",
   "mimetype": "text/x-python",
   "name": "python",
   "nbconvert_exporter": "python",
   "pygments_lexer": "ipython3",
   "version": "3.8.8"
  },
  "orig_nbformat": 4
 },
 "nbformat": 4,
 "nbformat_minor": 2
}
