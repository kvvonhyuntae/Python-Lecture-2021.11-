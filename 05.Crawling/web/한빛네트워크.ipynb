{
 "cells": [
  {
   "cell_type": "code",
   "execution_count": 492,
   "metadata": {},
   "outputs": [],
   "source": [
    "import requests\n",
    "from urllib.parse import quote\n",
    "import pandas as pd\n",
    "from bs4 import BeautifulSoup\n",
    "import re"
   ]
  },
  {
   "cell_type": "code",
   "execution_count": 493,
   "metadata": {},
   "outputs": [],
   "source": [
    "site = 'https://www.hanbit.co.kr/'\n",
    "url = f'{site}store/books/new_book_list.html'\n",
    "req = requests.get(url)\n",
    "html = req.text\n",
    "#html"
   ]
  },
  {
   "cell_type": "code",
   "execution_count": 494,
   "metadata": {},
   "outputs": [],
   "source": [
    "soup = BeautifulSoup(html, 'html.parser')"
   ]
  },
  {
   "cell_type": "code",
   "execution_count": 495,
   "metadata": {},
   "outputs": [
    {
     "data": {
      "text/plain": [
       "20"
      ]
     },
     "execution_count": 495,
     "metadata": {},
     "output_type": "execute_result"
    }
   ],
   "source": [
    "lis = soup.select('div.sub_book_list_area>li')\n",
    "len(lis)"
   ]
  },
  {
   "cell_type": "code",
   "execution_count": 496,
   "metadata": {},
   "outputs": [
    {
     "data": {
      "text/plain": [
       "'/store/books/look.php?p_code=B6972407557'"
      ]
     },
     "execution_count": 496,
     "metadata": {},
     "output_type": "execute_result"
    }
   ],
   "source": [
    "li = lis[1]\n",
    "href = li.find('a')['href']\n",
    "href"
   ]
  },
  {
   "cell_type": "code",
   "execution_count": 497,
   "metadata": {},
   "outputs": [
    {
     "data": {
      "text/plain": [
       "'https://www.hanbit.co.kr//store/books/look.php?p_code=B6972407557'"
      ]
     },
     "execution_count": 497,
     "metadata": {},
     "output_type": "execute_result"
    }
   ],
   "source": [
    "sub_url = site + href\n",
    "sub_url"
   ]
  },
  {
   "cell_type": "code",
   "execution_count": 498,
   "metadata": {},
   "outputs": [],
   "source": [
    "sub_req = requests.get(sub_url)\n",
    "sub_html = sub_req.text\n",
    "sub_soup = BeautifulSoup(sub_html, 'html.parser')"
   ]
  },
  {
   "cell_type": "code",
   "execution_count": 499,
   "metadata": {},
   "outputs": [
    {
     "data": {
      "text/plain": [
       "'다시, 배우다'"
      ]
     },
     "execution_count": 499,
     "metadata": {},
     "output_type": "execute_result"
    }
   ],
   "source": [
    "#제목\n",
    "info = sub_soup.select_one('.store_product_info_box')\n",
    "title = info.find('h3').string\n",
    "title"
   ]
  },
  {
   "cell_type": "code",
   "execution_count": 500,
   "metadata": {},
   "outputs": [
    {
     "data": {
      "text/plain": [
       "'폴 김'"
      ]
     },
     "execution_count": 500,
     "metadata": {},
     "output_type": "execute_result"
    }
   ],
   "source": [
    "#저자\n",
    "book_lis = info.select('.info_list > li')\n",
    "author = book_lis[0].find('span').get_text().strip()\n",
    "author"
   ]
  },
  {
   "cell_type": "code",
   "execution_count": 501,
   "metadata": {},
   "outputs": [
    {
     "data": {
      "text/plain": [
       "'-'"
      ]
     },
     "execution_count": 501,
     "metadata": {},
     "output_type": "execute_result"
    }
   ],
   "source": [
    "#역자\n",
    "if len(book_lis) == 5:\n",
    "    translator = '-'\n",
    "else:\n",
    "    translator = book_lis[1].find('span').get_text().strip()\n",
    "translator"
   ]
  },
  {
   "cell_type": "code",
   "execution_count": 502,
   "metadata": {},
   "outputs": [
    {
     "data": {
      "text/plain": [
       "'2021-12-10'"
      ]
     },
     "execution_count": 502,
     "metadata": {},
     "output_type": "execute_result"
    }
   ],
   "source": [
    "#출간일\n",
    "date = book_lis[-4].find('span').get_text().strip()\n",
    "date"
   ]
  },
  {
   "cell_type": "code",
   "execution_count": 503,
   "metadata": {},
   "outputs": [
    {
     "data": {
      "text/plain": [
       "304"
      ]
     },
     "execution_count": 503,
     "metadata": {},
     "output_type": "execute_result"
    }
   ],
   "source": [
    "#페이지\n",
    "page = book_lis[-3].find('span').get_text().strip().split()[0]\n",
    "page = int(page)\n",
    "page"
   ]
  },
  {
   "cell_type": "code",
   "execution_count": 504,
   "metadata": {},
   "outputs": [
    {
     "data": {
      "text/plain": [
       "'16,000원'"
      ]
     },
     "execution_count": 504,
     "metadata": {},
     "output_type": "execute_result"
    }
   ],
   "source": [
    "#정가\n",
    "payments = sub_soup.select_one('.payment_box.curr').find_all('p')\n",
    "price = payments[0].select_one('.pbr').get_text().strip()\n",
    "price"
   ]
  },
  {
   "cell_type": "code",
   "execution_count": 505,
   "metadata": {},
   "outputs": [
    {
     "data": {
      "text/plain": [
       "'14,400원'"
      ]
     },
     "execution_count": 505,
     "metadata": {},
     "output_type": "execute_result"
    }
   ],
   "source": [
    "#할인가\n",
    "sales = payments[1].select_one('.pbr').get_text().split('(')[0]\n",
    "sales"
   ]
  },
  {
   "cell_type": "code",
   "execution_count": 506,
   "metadata": {},
   "outputs": [
    {
     "data": {
      "text/plain": [
       "'800점'"
      ]
     },
     "execution_count": 506,
     "metadata": {},
     "output_type": "execute_result"
    }
   ],
   "source": [
    "mil = payments[2].select_one('.pbr').get_text().split()[0]\n",
    "mil"
   ]
  },
  {
   "cell_type": "code",
   "execution_count": 507,
   "metadata": {},
   "outputs": [
    {
     "data": {
      "text/html": [
       "<div>\n",
       "<style scoped>\n",
       "    .dataframe tbody tr th:only-of-type {\n",
       "        vertical-align: middle;\n",
       "    }\n",
       "\n",
       "    .dataframe tbody tr th {\n",
       "        vertical-align: top;\n",
       "    }\n",
       "\n",
       "    .dataframe thead th {\n",
       "        text-align: right;\n",
       "    }\n",
       "</style>\n",
       "<table border=\"1\" class=\"dataframe\">\n",
       "  <thead>\n",
       "    <tr style=\"text-align: right;\">\n",
       "      <th></th>\n",
       "      <th>제목</th>\n",
       "      <th>저자</th>\n",
       "      <th>번역</th>\n",
       "      <th>출간일</th>\n",
       "      <th>페이지</th>\n",
       "      <th>정가</th>\n",
       "      <th>판매가</th>\n",
       "      <th>마일리지</th>\n",
       "    </tr>\n",
       "  </thead>\n",
       "  <tbody>\n",
       "    <tr>\n",
       "      <th>0</th>\n",
       "      <td>하루 한 장 초등과학 365</td>\n",
       "      <td>치바 가즈요시</td>\n",
       "      <td>허영은 , 유우종 (감수)</td>\n",
       "      <td>2021-12-14</td>\n",
       "      <td>416</td>\n",
       "      <td>19,800원</td>\n",
       "      <td>17,820원</td>\n",
       "      <td>990점</td>\n",
       "    </tr>\n",
       "    <tr>\n",
       "      <th>1</th>\n",
       "      <td>다시, 배우다</td>\n",
       "      <td>폴 김</td>\n",
       "      <td>None</td>\n",
       "      <td>2021-12-10</td>\n",
       "      <td>304</td>\n",
       "      <td>16,000원</td>\n",
       "      <td>14,400원</td>\n",
       "      <td>800점</td>\n",
       "    </tr>\n",
       "    <tr>\n",
       "      <th>2</th>\n",
       "      <td>당당한 디자인 결정을 위한 9가지 방법</td>\n",
       "      <td>톰 그리버</td>\n",
       "      <td>김민성 , 곽서희</td>\n",
       "      <td>2021-12-10</td>\n",
       "      <td>376</td>\n",
       "      <td>22,000원</td>\n",
       "      <td>19,800원</td>\n",
       "      <td>1,100점</td>\n",
       "    </tr>\n",
       "    <tr>\n",
       "      <th>3</th>\n",
       "      <td>365 부모 말하기 연습 일력(스프링북)</td>\n",
       "      <td>박재연 , 공인영</td>\n",
       "      <td>None</td>\n",
       "      <td>2021-12-01</td>\n",
       "      <td>384</td>\n",
       "      <td>18,000원</td>\n",
       "      <td>16,200원</td>\n",
       "      <td>900점</td>\n",
       "    </tr>\n",
       "    <tr>\n",
       "      <th>4</th>\n",
       "      <td>공학도를 위한 수치해석(8판)</td>\n",
       "      <td>Steven C.Chapra , Raymond P. Canale</td>\n",
       "      <td>나양 , 이승배 , 임윤철</td>\n",
       "      <td>2021-11-30</td>\n",
       "      <td>600</td>\n",
       "      <td>36,000원</td>\n",
       "      <td>36,000원</td>\n",
       "      <td>1,080점</td>\n",
       "    </tr>\n",
       "    <tr>\n",
       "      <th>5</th>\n",
       "      <td>엑셀 매크로&amp;VBA 업무 공략집</td>\n",
       "      <td>최준선</td>\n",
       "      <td>None</td>\n",
       "      <td>2021-11-30</td>\n",
       "      <td>328</td>\n",
       "      <td>22,000원</td>\n",
       "      <td>19,800원</td>\n",
       "      <td>1,100점</td>\n",
       "    </tr>\n",
       "    <tr>\n",
       "      <th>6</th>\n",
       "      <td>데이터 과학자 되는 법</td>\n",
       "      <td>에밀리 로빈슨 , 재클린 놀리스</td>\n",
       "      <td>이창화</td>\n",
       "      <td>2021-11-26</td>\n",
       "      <td>372</td>\n",
       "      <td>24,000원</td>\n",
       "      <td>21,600원</td>\n",
       "      <td>1,200점</td>\n",
       "    </tr>\n",
       "    <tr>\n",
       "      <th>7</th>\n",
       "      <td>돈 되는 기획</td>\n",
       "      <td>김도균</td>\n",
       "      <td>None</td>\n",
       "      <td>2021-11-26</td>\n",
       "      <td>240</td>\n",
       "      <td>14,500원</td>\n",
       "      <td>13,050원</td>\n",
       "      <td>725점</td>\n",
       "    </tr>\n",
       "    <tr>\n",
       "      <th>8</th>\n",
       "      <td>빠르게 찾아 바로 적용하는 엑셀 에센스 사전 100</td>\n",
       "      <td>한은숙</td>\n",
       "      <td>None</td>\n",
       "      <td>2021-11-25</td>\n",
       "      <td>300</td>\n",
       "      <td>18,000원</td>\n",
       "      <td>16,200원</td>\n",
       "      <td>900점</td>\n",
       "    </tr>\n",
       "    <tr>\n",
       "      <th>9</th>\n",
       "      <td>초등 어휘력이 공부력이다</td>\n",
       "      <td>박명선</td>\n",
       "      <td>None</td>\n",
       "      <td>2021-11-25</td>\n",
       "      <td>412</td>\n",
       "      <td>18,000원</td>\n",
       "      <td>16,200원</td>\n",
       "      <td>900점</td>\n",
       "    </tr>\n",
       "    <tr>\n",
       "      <th>10</th>\n",
       "      <td>만화로 배우는 의학의 역사(개정판)</td>\n",
       "      <td>장 노엘 파비아니 , 필리프 베르코비치 , 김모 , 조한나</td>\n",
       "      <td>2021-11-15</td>\n",
       "      <td>296 쪽</td>\n",
       "      <td>9791157845484</td>\n",
       "      <td>20,800원</td>\n",
       "      <td>18,720원</td>\n",
       "      <td>1,040점</td>\n",
       "    </tr>\n",
       "    <tr>\n",
       "      <th>11</th>\n",
       "      <td>스토리텔링 우동이즘의 잘 팔리는 웹툰, 웹소설 이야기 만들기</td>\n",
       "      <td>우동이즘(이동우)</td>\n",
       "      <td>None</td>\n",
       "      <td>2021-11-15</td>\n",
       "      <td>232</td>\n",
       "      <td>16,000원</td>\n",
       "      <td>14,400원</td>\n",
       "      <td>800점</td>\n",
       "    </tr>\n",
       "    <tr>\n",
       "      <th>12</th>\n",
       "      <td>중학교 입학 가이드</td>\n",
       "      <td>배혜림</td>\n",
       "      <td>None</td>\n",
       "      <td>2021-11-11</td>\n",
       "      <td>376</td>\n",
       "      <td>16,500원</td>\n",
       "      <td>14,850원</td>\n",
       "      <td>825점</td>\n",
       "    </tr>\n",
       "    <tr>\n",
       "      <th>13</th>\n",
       "      <td>보고서 작성 실무 강의(개정판)</td>\n",
       "      <td>홍장표</td>\n",
       "      <td>2021-11-08</td>\n",
       "      <td>400 쪽</td>\n",
       "      <td>9791162244890</td>\n",
       "      <td>18,000원</td>\n",
       "      <td>16,200원</td>\n",
       "      <td>900점</td>\n",
       "    </tr>\n",
       "    <tr>\n",
       "      <th>14</th>\n",
       "      <td>비겁한 돈</td>\n",
       "      <td>황현희 , 제갈현열</td>\n",
       "      <td>None</td>\n",
       "      <td>2021-11-08</td>\n",
       "      <td>248</td>\n",
       "      <td>16,000원</td>\n",
       "      <td>14,400원</td>\n",
       "      <td>800점</td>\n",
       "    </tr>\n",
       "    <tr>\n",
       "      <th>15</th>\n",
       "      <td>나도 영문 손글씨 잘 쓰면 소원이 없겠네</td>\n",
       "      <td>윤정희(리제 캘리그라피)</td>\n",
       "      <td>None</td>\n",
       "      <td>2021-11-05</td>\n",
       "      <td>240</td>\n",
       "      <td>16,800원</td>\n",
       "      <td>15,120원</td>\n",
       "      <td>840점</td>\n",
       "    </tr>\n",
       "    <tr>\n",
       "      <th>16</th>\n",
       "      <td>구글 BERT의 정석</td>\n",
       "      <td>수다르산 라비찬디란</td>\n",
       "      <td>전희원 , 정승환 , 김형준</td>\n",
       "      <td>2021-11-03</td>\n",
       "      <td>368</td>\n",
       "      <td>34,000원</td>\n",
       "      <td>30,600원</td>\n",
       "      <td>1,700점</td>\n",
       "    </tr>\n",
       "    <tr>\n",
       "      <th>17</th>\n",
       "      <td>1000개 숨은그림찾기 몬스터 : 찾아도 찾아도 끝판왕</td>\n",
       "      <td>김확실</td>\n",
       "      <td>None</td>\n",
       "      <td>2021-11-02</td>\n",
       "      <td>96</td>\n",
       "      <td>8,000원</td>\n",
       "      <td>7,200원</td>\n",
       "      <td>400점</td>\n",
       "    </tr>\n",
       "    <tr>\n",
       "      <th>18</th>\n",
       "      <td>1000개 숨은그림찾기 보물찾기 : 찾아도 찾아도 끝판왕</td>\n",
       "      <td>전진희</td>\n",
       "      <td>None</td>\n",
       "      <td>2021-11-02</td>\n",
       "      <td>96</td>\n",
       "      <td>8,000원</td>\n",
       "      <td>7,200원</td>\n",
       "      <td>400점</td>\n",
       "    </tr>\n",
       "    <tr>\n",
       "      <th>19</th>\n",
       "      <td>1000개 숨은그림찾기 탈것 : 찾아도 찾아도 끝판왕</td>\n",
       "      <td>이한이</td>\n",
       "      <td>None</td>\n",
       "      <td>2021-11-02</td>\n",
       "      <td>96</td>\n",
       "      <td>8,000원</td>\n",
       "      <td>7,200원</td>\n",
       "      <td>400점</td>\n",
       "    </tr>\n",
       "  </tbody>\n",
       "</table>\n",
       "</div>"
      ],
      "text/plain": [
       "                                   제목                                   저자  \\\n",
       "0                     하루 한 장 초등과학 365                              치바 가즈요시   \n",
       "1                             다시, 배우다                                  폴 김   \n",
       "2               당당한 디자인 결정을 위한 9가지 방법                                톰 그리버   \n",
       "3              365 부모 말하기 연습 일력(스프링북)                            박재연 , 공인영   \n",
       "4                    공학도를 위한 수치해석(8판)  Steven C.Chapra , Raymond P. Canale   \n",
       "5                   엑셀 매크로&VBA 업무 공략집                                  최준선   \n",
       "6                        데이터 과학자 되는 법                    에밀리 로빈슨 , 재클린 놀리스   \n",
       "7                             돈 되는 기획                                  김도균   \n",
       "8        빠르게 찾아 바로 적용하는 엑셀 에센스 사전 100                                  한은숙   \n",
       "9                       초등 어휘력이 공부력이다                                  박명선   \n",
       "10                만화로 배우는 의학의 역사(개정판)     장 노엘 파비아니 , 필리프 베르코비치 , 김모 , 조한나   \n",
       "11  스토리텔링 우동이즘의 잘 팔리는 웹툰, 웹소설 이야기 만들기                            우동이즘(이동우)   \n",
       "12                         중학교 입학 가이드                                  배혜림   \n",
       "13                  보고서 작성 실무 강의(개정판)                                  홍장표   \n",
       "14                              비겁한 돈                           황현희 , 제갈현열   \n",
       "15             나도 영문 손글씨 잘 쓰면 소원이 없겠네                        윤정희(리제 캘리그라피)   \n",
       "16                        구글 BERT의 정석                           수다르산 라비찬디란   \n",
       "17     1000개 숨은그림찾기 몬스터 : 찾아도 찾아도 끝판왕                                  김확실   \n",
       "18    1000개 숨은그림찾기 보물찾기 : 찾아도 찾아도 끝판왕                                  전진희   \n",
       "19      1000개 숨은그림찾기 탈것 : 찾아도 찾아도 끝판왕                                  이한이   \n",
       "\n",
       "                 번역         출간일            페이지       정가      판매가    마일리지  \n",
       "0    허영은 , 유우종 (감수)  2021-12-14            416  19,800원  17,820원    990점  \n",
       "1              None  2021-12-10            304  16,000원  14,400원    800점  \n",
       "2         김민성 , 곽서희  2021-12-10            376  22,000원  19,800원  1,100점  \n",
       "3              None  2021-12-01            384  18,000원  16,200원    900점  \n",
       "4    나양 , 이승배 , 임윤철  2021-11-30            600  36,000원  36,000원  1,080점  \n",
       "5              None  2021-11-30            328  22,000원  19,800원  1,100점  \n",
       "6               이창화  2021-11-26            372  24,000원  21,600원  1,200점  \n",
       "7              None  2021-11-26            240  14,500원  13,050원    725점  \n",
       "8              None  2021-11-25            300  18,000원  16,200원    900점  \n",
       "9              None  2021-11-25            412  18,000원  16,200원    900점  \n",
       "10       2021-11-15       296 쪽  9791157845484  20,800원  18,720원  1,040점  \n",
       "11             None  2021-11-15            232  16,000원  14,400원    800점  \n",
       "12             None  2021-11-11            376  16,500원  14,850원    825점  \n",
       "13       2021-11-08       400 쪽  9791162244890  18,000원  16,200원    900점  \n",
       "14             None  2021-11-08            248  16,000원  14,400원    800점  \n",
       "15             None  2021-11-05            240  16,800원  15,120원    840점  \n",
       "16  전희원 , 정승환 , 김형준  2021-11-03            368  34,000원  30,600원  1,700점  \n",
       "17             None  2021-11-02             96   8,000원   7,200원    400점  \n",
       "18             None  2021-11-02             96   8,000원   7,200원    400점  \n",
       "19             None  2021-11-02             96   8,000원   7,200원    400점  "
      ]
     },
     "execution_count": 507,
     "metadata": {},
     "output_type": "execute_result"
    }
   ],
   "source": [
    "lines = []\n",
    "for li in lis:\n",
    "    book_url = li.find('a')['href']\n",
    "    res = requests.get(site + book_url)\n",
    "    book_soup = BeautifulSoup(res.text, 'html.parser')\n",
    "\n",
    "    info = book_soup.select_one('.store_product_info_box')\n",
    "    title = info.find('h3').string\n",
    "    book_lis = info.select('.info_list > li')\n",
    "    author = book_lis[0].find('span').get_text().strip()\n",
    "    if len(book_lis) == 5:\n",
    "        translator = None\n",
    "    else:\n",
    "        translator = book_lis[1].find('span').get_text().strip()\n",
    "    date = book_lis[-4].find('span').get_text().strip()\n",
    "    page = book_lis[-3].find('span').get_text().strip().split()[0]\n",
    "    \n",
    "    payments = book_soup.select_one('.payment_box.curr').find_all('p')\n",
    "    price = payments[0].select_one('.pbr').get_text().strip()\n",
    "    sales = payments[1].select_one('.pbr').get_text().split('(')[0]\n",
    "    mileage = payments[2].select_one('.pbr').get_text().split()[0]\n",
    "\n",
    "    lines.append([title,author,translator,date,page,price,sales,mileage])\n",
    "df = pd.DataFrame(lines, columns=['제목','저자','번역','출간일','페이지','정가','판매가','마일리지'])\n",
    "df"
   ]
  },
  {
   "cell_type": "code",
   "execution_count": 508,
   "metadata": {},
   "outputs": [],
   "source": [
    "def convert_unit(s):\n",
    "    return int(s.replace(',','').replace('원','').replace('점',''))"
   ]
  },
  {
   "cell_type": "code",
   "execution_count": 511,
   "metadata": {},
   "outputs": [
    {
     "data": {
      "application/vnd.jupyter.widget-view+json": {
       "model_id": "d6020f4cf1fe4329a00ce2e8579cc3dc",
       "version_major": 2,
       "version_minor": 0
      },
      "text/plain": [
       "  0%|          | 0/10 [00:00<?, ?it/s]"
      ]
     },
     "metadata": {},
     "output_type": "display_data"
    },
    {
     "data": {
      "text/html": [
       "<div>\n",
       "<style scoped>\n",
       "    .dataframe tbody tr th:only-of-type {\n",
       "        vertical-align: middle;\n",
       "    }\n",
       "\n",
       "    .dataframe tbody tr th {\n",
       "        vertical-align: top;\n",
       "    }\n",
       "\n",
       "    .dataframe thead th {\n",
       "        text-align: right;\n",
       "    }\n",
       "</style>\n",
       "<table border=\"1\" class=\"dataframe\">\n",
       "  <thead>\n",
       "    <tr style=\"text-align: right;\">\n",
       "      <th></th>\n",
       "      <th>제목</th>\n",
       "      <th>저자</th>\n",
       "      <th>번역</th>\n",
       "      <th>출간일</th>\n",
       "      <th>페이지</th>\n",
       "      <th>정가</th>\n",
       "      <th>판매가</th>\n",
       "      <th>마일리지</th>\n",
       "    </tr>\n",
       "  </thead>\n",
       "  <tbody>\n",
       "  </tbody>\n",
       "</table>\n",
       "</div>"
      ],
      "text/plain": [
       "Empty DataFrame\n",
       "Columns: [제목, 저자, 번역, 출간일, 페이지, 정가, 판매가, 마일리지]\n",
       "Index: []"
      ]
     },
     "execution_count": 511,
     "metadata": {},
     "output_type": "execute_result"
    }
   ],
   "source": [
    "from tqdm.notebook import tqdm\n",
    "\n",
    "lines = []\n",
    "for page in tqdm(range(1,11)):\n",
    "    url = f'{site}store/books/new_book_list.html'\n",
    "    req = requests.get(url)\n",
    "    soup = BeautifulSoup(res.text, 'html.parser')\n",
    "    lis = soup.select('.sub_book_list')\n",
    "    \n",
    "    for li in lis:\n",
    "        href = li.find('a')['href']\n",
    "        res = requests.get(site + sub_url)\n",
    "        sub_soup = BeautifulSoup(res.text, 'html.parser')\n",
    "\n",
    "        info = sub_soup.select_one('.store_product_info_box')\n",
    "        title = info.find('h3').string\n",
    "        book_lis = info.select('.info_list > li')\n",
    "        author = book_lis[0].find('span').get_text().strip()\n",
    "        if len(book_lis) == 5:\n",
    "            translator = '-'\n",
    "        else:\n",
    "            translator = book_lis[1].find('span').get_text().strip()\n",
    "        date = book_lis[-4].find('span').get_text().strip()\n",
    "        page = book_lis[-3].find('span').get_text().strip().split()[0]\n",
    "        \n",
    "        payments = sub_soup.select_one('.payment_box.curr').find_all('p')\n",
    "        price = payments[0].select_one('.pbr').get_text().strip()\n",
    "        sales = payments[1].select_one('.pbr').get_text().split('(')[0]\n",
    "        mil = payments[2].select_one('.pbr').get_text().split()[0]\n",
    "\n",
    "        lines.append([title,author,translator,date,int(page),\n",
    "                      convert_unit(price),convert_unit(sales),convert_unit(mil)])\n",
    "df = pd.DataFrame(lines, columns=['제목','저자','번역','출간일','페이지','정가','판매가','마일리지'])\n",
    "df.tail()"
   ]
  },
  {
   "cell_type": "code",
   "execution_count": null,
   "metadata": {},
   "outputs": [],
   "source": []
  }
 ],
 "metadata": {
  "interpreter": {
   "hash": "9a35ec9f607b12d73097b223a195964bd5e56918c8a2b6441703592dc5ca306e"
  },
  "kernelspec": {
   "display_name": "Python 3.8.8 64-bit ('base': conda)",
   "language": "python",
   "name": "python3"
  },
  "language_info": {
   "codemirror_mode": {
    "name": "ipython",
    "version": 3
   },
   "file_extension": ".py",
   "mimetype": "text/x-python",
   "name": "python",
   "nbconvert_exporter": "python",
   "pygments_lexer": "ipython3",
   "version": "3.8.8"
  },
  "orig_nbformat": 4
 },
 "nbformat": 4,
 "nbformat_minor": 2
}
