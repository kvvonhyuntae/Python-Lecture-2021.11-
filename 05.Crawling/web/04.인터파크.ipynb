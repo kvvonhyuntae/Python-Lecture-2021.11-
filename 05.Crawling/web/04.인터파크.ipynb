{
 "cells": [
  {
   "cell_type": "code",
   "execution_count": 503,
   "metadata": {},
   "outputs": [],
   "source": [
    "import requests\n",
    "from urllib.parse import quote\n",
    "import pandas as pd\n",
    "from bs4 import BeautifulSoup"
   ]
  },
  {
   "cell_type": "code",
   "execution_count": 526,
   "metadata": {},
   "outputs": [],
   "source": [
    "url = 'http://book.interpark.com/display/collectlist.do?_method=bestsellerHourNew&bookblockname=b_gnb&booklinkname=%BA%A3%BD%BA%C6%AE%C1%B8&bid1=w_bgnb&bid2=LiveRanking&bid3=main&bid4=001'\n",
    "req = requests.get(url)\n",
    "html = req.text\n",
    "#html"
   ]
  },
  {
   "cell_type": "code",
   "execution_count": 527,
   "metadata": {},
   "outputs": [],
   "source": [
    "soup = BeautifulSoup(html, 'html.parser')"
   ]
  },
  {
   "cell_type": "code",
   "execution_count": 528,
   "metadata": {},
   "outputs": [
    {
     "data": {
      "text/plain": [
       "15"
      ]
     },
     "execution_count": 528,
     "metadata": {},
     "output_type": "execute_result"
    }
   ],
   "source": [
    "lis = soup.select('div.rankBestContentList>ol>li')\n",
    "len(lis)"
   ]
  },
  {
   "cell_type": "code",
   "execution_count": 529,
   "metadata": {},
   "outputs": [
    {
     "data": {
      "text/plain": [
       "'/product/BookDisplay.do?_method=detail&sc.shopNo=0000400000&sc.prdNo=354069935&sc.saNo=003003001&bid1=Best_zone&bid2=LiveRanking&bid3=PRD&bid4=001'"
      ]
     },
     "execution_count": 529,
     "metadata": {},
     "output_type": "execute_result"
    }
   ],
   "source": [
    "li = lis[0]\n",
    "href = li.find('a')['href']\n",
    "href"
   ]
  },
  {
   "cell_type": "code",
   "execution_count": 530,
   "metadata": {},
   "outputs": [
    {
     "data": {
      "text/plain": [
       "'트렌드 코리아 2022 '"
      ]
     },
     "execution_count": 530,
     "metadata": {},
     "output_type": "execute_result"
    }
   ],
   "source": [
    "itemName = li.select_one('.itemName').get_text()\n",
    "itemName"
   ]
  },
  {
   "cell_type": "code",
   "execution_count": 531,
   "metadata": {},
   "outputs": [
    {
     "data": {
      "text/plain": [
       "'김난도(金蘭都), 전미영, 최지혜, 이향은, 이준영'"
      ]
     },
     "execution_count": 531,
     "metadata": {},
     "output_type": "execute_result"
    }
   ],
   "source": [
    "author = li.select_one('.author').get_text()\n",
    "author"
   ]
  },
  {
   "cell_type": "code",
   "execution_count": 532,
   "metadata": {},
   "outputs": [
    {
     "data": {
      "text/plain": [
       "'9.6'"
      ]
     },
     "execution_count": 532,
     "metadata": {},
     "output_type": "execute_result"
    }
   ],
   "source": [
    "starRate = li.select_one('.starRate').string\n",
    "starRate"
   ]
  },
  {
   "cell_type": "code",
   "execution_count": 533,
   "metadata": {},
   "outputs": [
    {
     "data": {
      "text/plain": [
       "'미래의창'"
      ]
     },
     "execution_count": 533,
     "metadata": {},
     "output_type": "execute_result"
    }
   ],
   "source": [
    "company = li.select_one('.company').get_text()\n",
    "company"
   ]
  },
  {
   "cell_type": "code",
   "execution_count": 534,
   "metadata": {},
   "outputs": [
    {
     "data": {
      "text/plain": [
       "['', '16,200', '원', '']"
      ]
     },
     "execution_count": 534,
     "metadata": {},
     "output_type": "execute_result"
    }
   ],
   "source": [
    "price = li.select_one('.price').get_text().split('\\n')\n",
    "price"
   ]
  },
  {
   "cell_type": "code",
   "execution_count": 535,
   "metadata": {},
   "outputs": [
    {
     "data": {
      "text/plain": [
       "'http://book.interpark.com/display/collectlist.do?_method=bestsellerHourNew&bookblockname=b_gnb&booklinkname=%BA%A3%BD%BA%C6%AE%C1%B8&bid1=w_bgnb&bid2=LiveRanking&bid3=main&bid4=001/product/BookDisplay.do?_method=detail&sc.shopNo=0000400000&sc.prdNo=354069935&sc.saNo=003003001&bid1=Best_zone&bid2=LiveRanking&bid3=PRD&bid4=001'"
      ]
     },
     "execution_count": 535,
     "metadata": {},
     "output_type": "execute_result"
    }
   ],
   "source": [
    "sub_url = url + href\n",
    "sub_url"
   ]
  },
  {
   "cell_type": "code",
   "execution_count": 536,
   "metadata": {},
   "outputs": [],
   "source": [
    "sub_req = requests.get(sub_url)\n",
    "sub_html = sub_req.text\n",
    "sub_soup = BeautifulSoup(sub_html, 'html.parser')"
   ]
  },
  {
   "cell_type": "code",
   "execution_count": 537,
   "metadata": {},
   "outputs": [
    {
     "data": {
      "text/html": [
       "<div>\n",
       "<style scoped>\n",
       "    .dataframe tbody tr th:only-of-type {\n",
       "        vertical-align: middle;\n",
       "    }\n",
       "\n",
       "    .dataframe tbody tr th {\n",
       "        vertical-align: top;\n",
       "    }\n",
       "\n",
       "    .dataframe thead th {\n",
       "        text-align: right;\n",
       "    }\n",
       "</style>\n",
       "<table border=\"1\" class=\"dataframe\">\n",
       "  <thead>\n",
       "    <tr style=\"text-align: right;\">\n",
       "      <th></th>\n",
       "      <th>제목</th>\n",
       "      <th>저자</th>\n",
       "      <th>평점</th>\n",
       "      <th>출판사</th>\n",
       "      <th>가격</th>\n",
       "    </tr>\n",
       "  </thead>\n",
       "  <tbody>\n",
       "    <tr>\n",
       "      <th>0</th>\n",
       "      <td>트렌드 코리아 2022</td>\n",
       "      <td>김난도(金蘭都), 전미영, 최지혜, 이향은, 이준영</td>\n",
       "      <td>9.6</td>\n",
       "      <td>미래의창</td>\n",
       "      <td>[16,200, 원]</td>\n",
       "    </tr>\n",
       "    <tr>\n",
       "      <th>1</th>\n",
       "      <td>2022 현직교사들이 들려주는 면접레시피</td>\n",
       "      <td>류은진, 양왕경, 이광한, 이지혜, 양왕경, 이광한, 이지혜</td>\n",
       "      <td>10</td>\n",
       "      <td>미래가치</td>\n",
       "      <td>[42,300, 원]</td>\n",
       "    </tr>\n",
       "    <tr>\n",
       "      <th>2</th>\n",
       "      <td>거인의 포트폴리오</td>\n",
       "      <td>강환국</td>\n",
       "      <td>9.9</td>\n",
       "      <td>페이지2북스</td>\n",
       "      <td>[16,200, 원]</td>\n",
       "    </tr>\n",
       "    <tr>\n",
       "      <th>3</th>\n",
       "      <td>거꾸로 읽는 세계사</td>\n",
       "      <td>유시민(柳時敏)</td>\n",
       "      <td>9.9</td>\n",
       "      <td>돌베개</td>\n",
       "      <td>[15,750, 원]</td>\n",
       "    </tr>\n",
       "    <tr>\n",
       "      <th>4</th>\n",
       "      <td>아직 오지 않은 날들을 위하여</td>\n",
       "      <td>파스칼 브뤼크네르/이세진 역</td>\n",
       "      <td>9.8</td>\n",
       "      <td>인플루엔셜</td>\n",
       "      <td>[14,400, 원]</td>\n",
       "    </tr>\n",
       "    <tr>\n",
       "      <th>5</th>\n",
       "      <td>오십에 읽는 논어</td>\n",
       "      <td>최종엽</td>\n",
       "      <td>9.8</td>\n",
       "      <td>유노북스</td>\n",
       "      <td>[14,400, 원]</td>\n",
       "    </tr>\n",
       "    <tr>\n",
       "      <th>6</th>\n",
       "      <td>작은 별이지만 빛나고 있어(10만 부 기념 한정판 에디션)</td>\n",
       "      <td>소윤</td>\n",
       "      <td>10</td>\n",
       "      <td>북로망스</td>\n",
       "      <td>[13,500, 원]</td>\n",
       "    </tr>\n",
       "    <tr>\n",
       "      <th>7</th>\n",
       "      <td>투자는 디테일에 있다</td>\n",
       "      <td>김정환</td>\n",
       "      <td>9.7</td>\n",
       "      <td>부케이</td>\n",
       "      <td>[16,200, 원]</td>\n",
       "    </tr>\n",
       "    <tr>\n",
       "      <th>8</th>\n",
       "      <td>웰씽킹(Wealthinking)</td>\n",
       "      <td>켈리 최</td>\n",
       "      <td>10</td>\n",
       "      <td>다산북스</td>\n",
       "      <td>[14,400, 원]</td>\n",
       "    </tr>\n",
       "    <tr>\n",
       "      <th>9</th>\n",
       "      <td>달러구트 꿈 백화점. 2</td>\n",
       "      <td>이미예</td>\n",
       "      <td>9.7</td>\n",
       "      <td>팩토리나인</td>\n",
       "      <td>[12,420, 원]</td>\n",
       "    </tr>\n",
       "    <tr>\n",
       "      <th>10</th>\n",
       "      <td>불편한 편의점(15만부 기념 윈터 에디션)</td>\n",
       "      <td>김호연</td>\n",
       "      <td>9.9</td>\n",
       "      <td>나무옆의자</td>\n",
       "      <td>[12,600, 원]</td>\n",
       "    </tr>\n",
       "    <tr>\n",
       "      <th>11</th>\n",
       "      <td>소크라테스 익스프레스(20만 부 기념 윈터 에디션)</td>\n",
       "      <td>에릭 와이너/김하현 역</td>\n",
       "      <td>9.7</td>\n",
       "      <td>어크로스</td>\n",
       "      <td>[16,200, 원]</td>\n",
       "    </tr>\n",
       "    <tr>\n",
       "      <th>12</th>\n",
       "      <td>달러구트 꿈 백화점</td>\n",
       "      <td>이미예</td>\n",
       "      <td>9.7</td>\n",
       "      <td>팩토리나인</td>\n",
       "      <td>[12,420, 원]</td>\n",
       "    </tr>\n",
       "    <tr>\n",
       "      <th>13</th>\n",
       "      <td>NFT 레볼루션</td>\n",
       "      <td>성소라, 롤프 회퍼, 스콧 맥러플린</td>\n",
       "      <td>9.8</td>\n",
       "      <td>더퀘스트</td>\n",
       "      <td>[16,200, 원]</td>\n",
       "    </tr>\n",
       "    <tr>\n",
       "      <th>14</th>\n",
       "      <td>2022 사이다 면접</td>\n",
       "      <td>이지수, 구영모, 이지수</td>\n",
       "      <td>None</td>\n",
       "      <td>박문각</td>\n",
       "      <td>[31,500, 원]</td>\n",
       "    </tr>\n",
       "  </tbody>\n",
       "</table>\n",
       "</div>"
      ],
      "text/plain": [
       "                                  제목                                 저자    평점  \\\n",
       "0                       트렌드 코리아 2022       김난도(金蘭都), 전미영, 최지혜, 이향은, 이준영   9.6   \n",
       "1             2022 현직교사들이 들려주는 면접레시피  류은진, 양왕경, 이광한, 이지혜, 양왕경, 이광한, 이지혜    10   \n",
       "2                          거인의 포트폴리오                                강환국   9.9   \n",
       "3                         거꾸로 읽는 세계사                           유시민(柳時敏)   9.9   \n",
       "4                   아직 오지 않은 날들을 위하여                    파스칼 브뤼크네르/이세진 역   9.8   \n",
       "5                          오십에 읽는 논어                                최종엽   9.8   \n",
       "6   작은 별이지만 빛나고 있어(10만 부 기념 한정판 에디션)                                 소윤    10   \n",
       "7                        투자는 디테일에 있다                                김정환   9.7   \n",
       "8                  웰씽킹(Wealthinking)                               켈리 최    10   \n",
       "9                      달러구트 꿈 백화점. 2                                이미예   9.7   \n",
       "10           불편한 편의점(15만부 기념 윈터 에디션)                                김호연   9.9   \n",
       "11      소크라테스 익스프레스(20만 부 기념 윈터 에디션)                       에릭 와이너/김하현 역   9.7   \n",
       "12                        달러구트 꿈 백화점                                이미예   9.7   \n",
       "13                          NFT 레볼루션                성소라, 롤프 회퍼, 스콧 맥러플린   9.8   \n",
       "14                       2022 사이다 면접                      이지수, 구영모, 이지수  None   \n",
       "\n",
       "       출판사           가격  \n",
       "0     미래의창  [16,200, 원]  \n",
       "1     미래가치  [42,300, 원]  \n",
       "2   페이지2북스  [16,200, 원]  \n",
       "3      돌베개  [15,750, 원]  \n",
       "4    인플루엔셜  [14,400, 원]  \n",
       "5     유노북스  [14,400, 원]  \n",
       "6     북로망스  [13,500, 원]  \n",
       "7      부케이  [16,200, 원]  \n",
       "8     다산북스  [14,400, 원]  \n",
       "9    팩토리나인  [12,420, 원]  \n",
       "10   나무옆의자  [12,600, 원]  \n",
       "11    어크로스  [16,200, 원]  \n",
       "12   팩토리나인  [12,420, 원]  \n",
       "13    더퀘스트  [16,200, 원]  \n",
       "14     박문각  [31,500, 원]  "
      ]
     },
     "execution_count": 537,
     "metadata": {},
     "output_type": "execute_result"
    }
   ],
   "source": [
    "lines = []\n",
    "for li in lis:\n",
    "    href = li.find('a')['href']\n",
    "    itemName = li.select_one('.itemName').get_text().strip()\n",
    "    author = li.select_one('.author').get_text().strip()\n",
    "    starRate = li.select_one('.starRate').string\n",
    "    company = li.select_one('.company').get_text().strip()\n",
    "    price = li.select_one('.price').get_text().split()\n",
    "    lines.append([itemName, author, starRate, company, price])\n",
    "\n",
    "df = pd.DataFrame(lines, columns=['제목', '저자', '평점', '출판사', '가격'])\n",
    "df"
   ]
  },
  {
   "cell_type": "code",
   "execution_count": null,
   "metadata": {},
   "outputs": [],
   "source": []
  },
  {
   "cell_type": "code",
   "execution_count": null,
   "metadata": {},
   "outputs": [],
   "source": []
  }
 ],
 "metadata": {
  "interpreter": {
   "hash": "9a35ec9f607b12d73097b223a195964bd5e56918c8a2b6441703592dc5ca306e"
  },
  "kernelspec": {
   "display_name": "Python 3.8.8 64-bit ('base': conda)",
   "language": "python",
   "name": "python3"
  },
  "language_info": {
   "codemirror_mode": {
    "name": "ipython",
    "version": 3
   },
   "file_extension": ".py",
   "mimetype": "text/x-python",
   "name": "python",
   "nbconvert_exporter": "python",
   "pygments_lexer": "ipython3",
   "version": "3.8.8"
  },
  "orig_nbformat": 4
 },
 "nbformat": 4,
 "nbformat_minor": 2
}
