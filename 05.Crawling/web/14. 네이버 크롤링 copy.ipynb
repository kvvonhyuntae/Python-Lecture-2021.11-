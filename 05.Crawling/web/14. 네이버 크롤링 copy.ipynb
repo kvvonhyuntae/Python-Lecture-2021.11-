{
 "cells": [
  {
   "cell_type": "code",
   "execution_count": null,
   "metadata": {},
   "outputs": [],
   "source": [
    "# 네이버 블로그 크롤링 - 제주맛집"
   ]
  },
  {
   "cell_type": "code",
   "execution_count": null,
   "metadata": {},
   "outputs": [],
   "source": [
    "from selenium import webdriver\n",
    "import time\n",
    "import pandas as pd\n",
    "from urllib.parse import quote"
   ]
  },
  {
   "cell_type": "code",
   "execution_count": 5,
   "metadata": {},
   "outputs": [],
   "source": [
    "url = f'https://search.naver.com/search.naver?where=view&sm=tab_jum&query={quote(\"제주맛집\")}'\n",
    "driver = webdriver.Chrome('chromedriver.exe')\n",
    "driver.get(url)\n",
    "time.sleep(2)"
   ]
  },
  {
   "cell_type": "code",
   "execution_count": 6,
   "metadata": {},
   "outputs": [],
   "source": [
    "# Blog 페이지를 아래로 내려서 많은 데이터 확보\n",
    "from selenium.webdriver.common.keys import Keys\n",
    "\n",
    "body = driver.find_element_by_tag_name('body')\n",
    "for _ in range(30):\n",
    "    body.send_keys(Keys.PAGE_DOWN)\n",
    "    time.sleep(1)"
   ]
  },
  {
   "cell_type": "code",
   "execution_count": null,
   "metadata": {},
   "outputs": [],
   "source": [
    "li = lis[0]\n",
    "title = li.find_element_by_css_selector('a.api_txt_lines.total_tit._cross_trigger').text.strip()\n",
    "title"
   ]
  },
  {
   "cell_type": "code",
   "execution_count": null,
   "metadata": {},
   "outputs": [
    {
     "data": {
      "text/plain": [
       "110"
      ]
     },
     "execution_count": 27,
     "metadata": {},
     "output_type": "execute_result"
    }
   ],
   "source": [
    "date = li.find_element_by_css_selector('.sub_time.sub_txt').text.strip()\n",
    "date"
   ]
  },
  {
   "cell_type": "code",
   "execution_count": null,
   "metadata": {},
   "outputs": [
    {
     "ename": "AttributeError",
     "evalue": "'NoneType' object has no attribute 'get_text'",
     "output_type": "error",
     "traceback": [
      "\u001b[1;31m---------------------------------------------------------------------------\u001b[0m",
      "\u001b[1;31mAttributeError\u001b[0m                            Traceback (most recent call last)",
      "\u001b[1;32m<ipython-input-54-6a5cea5118c6>\u001b[0m in \u001b[0;36m<module>\u001b[1;34m\u001b[0m\n\u001b[0;32m      1\u001b[0m \u001b[0mli\u001b[0m \u001b[1;33m=\u001b[0m \u001b[0mlis\u001b[0m\u001b[1;33m[\u001b[0m\u001b[1;36m0\u001b[0m\u001b[1;33m]\u001b[0m\u001b[1;33m\u001b[0m\u001b[1;33m\u001b[0m\u001b[0m\n\u001b[1;32m----> 2\u001b[1;33m \u001b[0mtitle\u001b[0m \u001b[1;33m=\u001b[0m \u001b[0mli\u001b[0m\u001b[1;33m.\u001b[0m\u001b[0mselect_one\u001b[0m\u001b[1;33m(\u001b[0m\u001b[1;34m'.a.api_txt_lines total_tit _cross_trigger'\u001b[0m\u001b[1;33m)\u001b[0m\u001b[1;33m.\u001b[0m\u001b[0mget_text\u001b[0m\u001b[1;33m(\u001b[0m\u001b[1;33m)\u001b[0m\u001b[1;33m.\u001b[0m\u001b[0mstrip\u001b[0m\u001b[1;33m(\u001b[0m\u001b[1;33m)\u001b[0m\u001b[1;33m\u001b[0m\u001b[1;33m\u001b[0m\u001b[0m\n\u001b[0m\u001b[0;32m      3\u001b[0m \u001b[0mtitle\u001b[0m\u001b[1;33m\u001b[0m\u001b[1;33m\u001b[0m\u001b[0m\n",
      "\u001b[1;31mAttributeError\u001b[0m: 'NoneType' object has no attribute 'get_text'"
     ]
    }
   ],
   "source": [
    "desc = li.find_element_by_css_selector('.api_txt_lines.dsc_txt').text.strip()\n",
    "desc"
   ]
  },
  {
   "cell_type": "code",
   "execution_count": null,
   "metadata": {},
   "outputs": [],
   "source": [
    "href = li.find_element_by_css_selector('a.api_txt_lines.total_tit._cross_trigger').get_attribute('href')\n",
    "href"
   ]
  },
  {
   "cell_type": "code",
   "execution_count": null,
   "metadata": {},
   "outputs": [],
   "source": [
    "# 날짜 처리\n",
    "from datetime import datetime, timedelta\n",
    "\n",
    "def convert_date(s):\n",
    "    if len(s) == 11:\n",
    "        return s[:-1]\n",
    "\n",
    "    today = datetime.now()\n",
    "    if '어제' in s:\n",
    "        date = today - timedelta(1)\n",
    "    elif '일' in s:\n",
    "        date = today - timedelta(int(s[:-3]))\n",
    "    elif '시간' in s:\n",
    "        date = today - timedelta(hours=int(s[:-4]))\n",
    "    elif '분' in s:\n",
    "        date = today - timedelta(minutes=int(s[:-3]))\n",
    "\n",
    "    return f'{date.year}.{date.month:02d}.{date.day:02d}'"
   ]
  },
  {
   "cell_type": "code",
   "execution_count": null,
   "metadata": {},
   "outputs": [],
   "source": [
    "#반복문으로 모든 데이터 가져오기\n",
    "lines = []\n",
    "for li in lis:\n",
    "    title = li.find_element_by_css_selector('a.api_txt_lines.total_tit._cross_trigger').text.strip()\n",
    "    date = li.find_element_by_css_selector('.sub_time.sub_txt').text.strip()\n",
    "    desc = li.find_element_by_css_selector('.api_txt_lines.dsc_txt').text.strip()\n",
    "    href = li.find_element_by_css_selector('a.api_txt_lines.total_tit._cross_trigger').get_attribute('href')\n",
    "    lines.append([title,convert_date(date),desc,href])\n",
    "\n",
    "df = pd.DataFrame(lines, columns=['제목','날짜','내용','href'])\n",
    "df[['제목','날짜','내용']].head()\n"
   ]
  },
  {
   "cell_type": "code",
   "execution_count": null,
   "metadata": {},
   "outputs": [
    {
     "data": {
      "text/plain": [
       "datetime.datetime(2021, 12, 8, 10, 44, 36, 542573)"
      ]
     },
     "execution_count": 37,
     "metadata": {},
     "output_type": "execute_result"
    }
   ],
   "source": [
    "df.to_csv('네이버-제주맛집.csv', index=False)"
   ]
  },
  {
   "cell_type": "code",
   "execution_count": null,
   "metadata": {},
   "outputs": [
    {
     "data": {
      "text/plain": [
       "(2021, 12, 8)"
      ]
     },
     "execution_count": 38,
     "metadata": {},
     "output_type": "execute_result"
    }
   ],
   "source": [
    "driver.close()"
   ]
  }
 ],
 "metadata": {
  "interpreter": {
   "hash": "9a35ec9f607b12d73097b223a195964bd5e56918c8a2b6441703592dc5ca306e"
  },
  "kernelspec": {
   "display_name": "Python 3.8.8 64-bit ('base': conda)",
   "language": "python",
   "name": "python3"
  },
  "language_info": {
   "codemirror_mode": {
    "name": "ipython",
    "version": 3
   },
   "file_extension": ".py",
   "mimetype": "text/x-python",
   "name": "python",
   "nbconvert_exporter": "python",
   "pygments_lexer": "ipython3",
   "version": "3.8.8"
  },
  "orig_nbformat": 4
 },
 "nbformat": 4,
 "nbformat_minor": 2
}
