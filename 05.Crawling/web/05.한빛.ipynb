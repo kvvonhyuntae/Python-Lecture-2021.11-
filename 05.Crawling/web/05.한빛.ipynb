{
 "cells": [
  {
   "cell_type": "code",
   "execution_count": 3,
   "metadata": {},
   "outputs": [],
   "source": [
    "# 한빛출판네트워크 - 새로나온 책"
   ]
  },
  {
   "cell_type": "code",
   "execution_count": 4,
   "metadata": {},
   "outputs": [],
   "source": [
    "from bs4 import BeautifulSoup \n",
    "import requests\n",
    "import pandas as pd "
   ]
  },
  {
   "cell_type": "code",
   "execution_count": 5,
   "metadata": {},
   "outputs": [],
   "source": [
    "base_url = 'https://www.hanbit.co.kr'\n",
    "sub_url = '/store/books/new_book_list.html'\n",
    "url = base_url + sub_url\n",
    "res = requests.get(url)\n",
    "soup = BeautifulSoup(res.text, 'html.parser')"
   ]
  },
  {
   "cell_type": "code",
   "execution_count": 6,
   "metadata": {},
   "outputs": [
    {
     "data": {
      "text/plain": [
       "20"
      ]
     },
     "execution_count": 6,
     "metadata": {},
     "output_type": "execute_result"
    }
   ],
   "source": [
    "lis = soup.select('.sub_book_list')\n",
    "len(lis)"
   ]
  },
  {
   "cell_type": "code",
   "execution_count": 7,
   "metadata": {},
   "outputs": [
    {
     "data": {
      "text/plain": [
       "'/store/books/look.php?p_code=B6694310162'"
      ]
     },
     "execution_count": 7,
     "metadata": {},
     "output_type": "execute_result"
    }
   ],
   "source": [
    "li = lis[0]\n",
    "href = li.find('a')['href']\n",
    "href"
   ]
  },
  {
   "cell_type": "code",
   "execution_count": 8,
   "metadata": {},
   "outputs": [],
   "source": [
    "res = requests.get(base_url + href)\n",
    "book_soup = BeautifulSoup(res.text, 'html.parser')"
   ]
  },
  {
   "cell_type": "code",
   "execution_count": 9,
   "metadata": {},
   "outputs": [
    {
     "data": {
      "text/plain": [
       "'하루 한 장 초등과학 365'"
      ]
     },
     "execution_count": 9,
     "metadata": {},
     "output_type": "execute_result"
    }
   ],
   "source": [
    "info = book_soup.select_one('.store_product_info_box')\n",
    "title = info.find('h3').string\n",
    "title"
   ]
  },
  {
   "cell_type": "code",
   "execution_count": 10,
   "metadata": {},
   "outputs": [
    {
     "data": {
      "text/plain": [
       "'치바 가즈요시'"
      ]
     },
     "execution_count": 10,
     "metadata": {},
     "output_type": "execute_result"
    }
   ],
   "source": [
    "book_lis = info.select('.info_list > li')\n",
    "author = book_lis[0].find('span').get_text().strip()\n",
    "author"
   ]
  },
  {
   "cell_type": "code",
   "execution_count": 11,
   "metadata": {},
   "outputs": [
    {
     "data": {
      "text/plain": [
       "'허영은 , 유우종 (감수)'"
      ]
     },
     "execution_count": 11,
     "metadata": {},
     "output_type": "execute_result"
    }
   ],
   "source": [
    "if len(book_lis) == 5:\n",
    "    translator = '-'\n",
    "else:\n",
    "    translator = book_lis[1].find('span').get_text().strip()\n",
    "translator"
   ]
  },
  {
   "cell_type": "code",
   "execution_count": 12,
   "metadata": {},
   "outputs": [
    {
     "data": {
      "text/plain": [
       "'2021-12-14'"
      ]
     },
     "execution_count": 12,
     "metadata": {},
     "output_type": "execute_result"
    }
   ],
   "source": [
    "date = book_lis[-4].find('span').get_text().strip()\n",
    "date"
   ]
  },
  {
   "cell_type": "code",
   "execution_count": 13,
   "metadata": {},
   "outputs": [
    {
     "data": {
      "text/plain": [
       "416"
      ]
     },
     "execution_count": 13,
     "metadata": {},
     "output_type": "execute_result"
    }
   ],
   "source": [
    "page = book_lis[-3].find('span').get_text().strip().split()[0]\n",
    "page = int(page)\n",
    "page"
   ]
  },
  {
   "cell_type": "code",
   "execution_count": 14,
   "metadata": {},
   "outputs": [
    {
     "data": {
      "text/plain": [
       "'19,800원'"
      ]
     },
     "execution_count": 14,
     "metadata": {},
     "output_type": "execute_result"
    }
   ],
   "source": [
    "payments = book_soup.select_one('.payment_box.curr').find_all('p')\n",
    "price = payments[0].select_one('.pbr').get_text().strip()\n",
    "price"
   ]
  },
  {
   "cell_type": "code",
   "execution_count": 15,
   "metadata": {},
   "outputs": [
    {
     "data": {
      "text/plain": [
       "'17,820원'"
      ]
     },
     "execution_count": 15,
     "metadata": {},
     "output_type": "execute_result"
    }
   ],
   "source": [
    "sales = payments[1].select_one('.pbr').get_text().split('(')[0]\n",
    "sales"
   ]
  },
  {
   "cell_type": "code",
   "execution_count": 16,
   "metadata": {},
   "outputs": [
    {
     "data": {
      "text/plain": [
       "'990점'"
      ]
     },
     "execution_count": 16,
     "metadata": {},
     "output_type": "execute_result"
    }
   ],
   "source": [
    "mileage = payments[2].select_one('.pbr').get_text().split()[0]\n",
    "mileage"
   ]
  },
  {
   "cell_type": "code",
   "execution_count": 17,
   "metadata": {},
   "outputs": [
    {
     "data": {
      "text/html": [
       "<div>\n",
       "<style scoped>\n",
       "    .dataframe tbody tr th:only-of-type {\n",
       "        vertical-align: middle;\n",
       "    }\n",
       "\n",
       "    .dataframe tbody tr th {\n",
       "        vertical-align: top;\n",
       "    }\n",
       "\n",
       "    .dataframe thead th {\n",
       "        text-align: right;\n",
       "    }\n",
       "</style>\n",
       "<table border=\"1\" class=\"dataframe\">\n",
       "  <thead>\n",
       "    <tr style=\"text-align: right;\">\n",
       "      <th></th>\n",
       "      <th>제목</th>\n",
       "      <th>저자</th>\n",
       "      <th>번역</th>\n",
       "      <th>출간일</th>\n",
       "      <th>페이지</th>\n",
       "      <th>정가</th>\n",
       "      <th>판매가</th>\n",
       "      <th>마일리지</th>\n",
       "    </tr>\n",
       "  </thead>\n",
       "  <tbody>\n",
       "    <tr>\n",
       "      <th>15</th>\n",
       "      <td>나도 영문 손글씨 잘 쓰면 소원이 없겠네</td>\n",
       "      <td>윤정희(리제 캘리그라피)</td>\n",
       "      <td></td>\n",
       "      <td>2021-11-05</td>\n",
       "      <td>240</td>\n",
       "      <td>16,800원</td>\n",
       "      <td>15,120원</td>\n",
       "      <td>840점</td>\n",
       "    </tr>\n",
       "    <tr>\n",
       "      <th>16</th>\n",
       "      <td>구글 BERT의 정석</td>\n",
       "      <td>수다르산 라비찬디란</td>\n",
       "      <td>전희원 , 정승환 , 김형준</td>\n",
       "      <td>2021-11-03</td>\n",
       "      <td>368</td>\n",
       "      <td>34,000원</td>\n",
       "      <td>30,600원</td>\n",
       "      <td>1,700점</td>\n",
       "    </tr>\n",
       "    <tr>\n",
       "      <th>17</th>\n",
       "      <td>1000개 숨은그림찾기 몬스터 : 찾아도 찾아도 끝판왕</td>\n",
       "      <td>김확실</td>\n",
       "      <td></td>\n",
       "      <td>2021-11-02</td>\n",
       "      <td>96</td>\n",
       "      <td>8,000원</td>\n",
       "      <td>7,200원</td>\n",
       "      <td>400점</td>\n",
       "    </tr>\n",
       "    <tr>\n",
       "      <th>18</th>\n",
       "      <td>1000개 숨은그림찾기 보물찾기 : 찾아도 찾아도 끝판왕</td>\n",
       "      <td>전진희</td>\n",
       "      <td></td>\n",
       "      <td>2021-11-02</td>\n",
       "      <td>96</td>\n",
       "      <td>8,000원</td>\n",
       "      <td>7,200원</td>\n",
       "      <td>400점</td>\n",
       "    </tr>\n",
       "    <tr>\n",
       "      <th>19</th>\n",
       "      <td>1000개 숨은그림찾기 탈것 : 찾아도 찾아도 끝판왕</td>\n",
       "      <td>이한이</td>\n",
       "      <td></td>\n",
       "      <td>2021-11-02</td>\n",
       "      <td>96</td>\n",
       "      <td>8,000원</td>\n",
       "      <td>7,200원</td>\n",
       "      <td>400점</td>\n",
       "    </tr>\n",
       "  </tbody>\n",
       "</table>\n",
       "</div>"
      ],
      "text/plain": [
       "                                 제목             저자               번역  \\\n",
       "15           나도 영문 손글씨 잘 쓰면 소원이 없겠네  윤정희(리제 캘리그라피)                    \n",
       "16                      구글 BERT의 정석     수다르산 라비찬디란  전희원 , 정승환 , 김형준   \n",
       "17   1000개 숨은그림찾기 몬스터 : 찾아도 찾아도 끝판왕            김확실                    \n",
       "18  1000개 숨은그림찾기 보물찾기 : 찾아도 찾아도 끝판왕            전진희                    \n",
       "19    1000개 숨은그림찾기 탈것 : 찾아도 찾아도 끝판왕            이한이                    \n",
       "\n",
       "           출간일  페이지       정가      판매가    마일리지  \n",
       "15  2021-11-05  240  16,800원  15,120원    840점  \n",
       "16  2021-11-03  368  34,000원  30,600원  1,700점  \n",
       "17  2021-11-02   96   8,000원   7,200원    400점  \n",
       "18  2021-11-02   96   8,000원   7,200원    400점  \n",
       "19  2021-11-02   96   8,000원   7,200원    400점  "
      ]
     },
     "execution_count": 17,
     "metadata": {},
     "output_type": "execute_result"
    }
   ],
   "source": [
    "lines = []\n",
    "for li in lis:\n",
    "    book_url = li.find('a')['href']\n",
    "    res = requests.get(base_url + book_url)\n",
    "    book_soup = BeautifulSoup(res.text, 'html.parser')\n",
    "\n",
    "    info = book_soup.select_one('.store_product_info_box')\n",
    "    title = info.find('h3').string\n",
    "    book_lis = info.select('.info_list > li')\n",
    "    author = book_lis[0].find('span').get_text().strip()\n",
    "    if len(book_lis) == 5:\n",
    "        translator = '  '\n",
    "    else:\n",
    "        translator = book_lis[1].find('span').get_text().strip()\n",
    "    date = book_lis[-4].find('span').get_text().strip()\n",
    "    page = book_lis[-3].find('span').get_text().strip().split()[0]\n",
    "    \n",
    "    payments = book_soup.select_one('.payment_box.curr').find_all('p')\n",
    "    price = payments[0].select_one('.pbr').get_text().strip()\n",
    "    sales = payments[1].select_one('.pbr').get_text().split('(')[0]\n",
    "    mileage = payments[2].select_one('.pbr').get_text().split()[0]\n",
    "\n",
    "    lines.append([title,author,translator,date,page,price,sales,mileage])\n",
    "\n",
    "df = pd.DataFrame(lines, columns=['제목','저자','번역','출간일','페이지','정가','판매가','마일리지'])\n",
    "df.tail()"
   ]
  },
  {
   "cell_type": "code",
   "execution_count": 18,
   "metadata": {},
   "outputs": [],
   "source": [
    "def convert_unit(s):\n",
    "    return int(s.replace(',','').replace('원','').replace('점',''))"
   ]
  },
  {
   "cell_type": "code",
   "execution_count": 19,
   "metadata": {},
   "outputs": [
    {
     "data": {
      "application/vnd.jupyter.widget-view+json": {
       "model_id": "fbb427957e3141aba6b4a57ca2545a8d",
       "version_major": 2,
       "version_minor": 0
      },
      "text/plain": [
       "  0%|          | 0/10 [00:00<?, ?it/s]"
      ]
     },
     "metadata": {},
     "output_type": "display_data"
    },
    {
     "data": {
      "text/html": [
       "<div>\n",
       "<style scoped>\n",
       "    .dataframe tbody tr th:only-of-type {\n",
       "        vertical-align: middle;\n",
       "    }\n",
       "\n",
       "    .dataframe tbody tr th {\n",
       "        vertical-align: top;\n",
       "    }\n",
       "\n",
       "    .dataframe thead th {\n",
       "        text-align: right;\n",
       "    }\n",
       "</style>\n",
       "<table border=\"1\" class=\"dataframe\">\n",
       "  <thead>\n",
       "    <tr style=\"text-align: right;\">\n",
       "      <th></th>\n",
       "      <th>제목</th>\n",
       "      <th>저자</th>\n",
       "      <th>번역</th>\n",
       "      <th>출간일</th>\n",
       "      <th>페이지</th>\n",
       "      <th>정가</th>\n",
       "      <th>판매가</th>\n",
       "      <th>마일리지</th>\n",
       "    </tr>\n",
       "  </thead>\n",
       "  <tbody>\n",
       "    <tr>\n",
       "      <th>195</th>\n",
       "      <td>IT CookBook, C 언어 일취월장(2판)</td>\n",
       "      <td>신윤환</td>\n",
       "      <td>2021-02-24</td>\n",
       "      <td>800 쪽</td>\n",
       "      <td>9791156645313</td>\n",
       "      <td>28000</td>\n",
       "      <td>28000</td>\n",
       "      <td>840</td>\n",
       "    </tr>\n",
       "    <tr>\n",
       "      <th>196</th>\n",
       "      <td>소비자행동</td>\n",
       "      <td>김학윤</td>\n",
       "      <td>-</td>\n",
       "      <td>2021-02-23</td>\n",
       "      <td>660</td>\n",
       "      <td>35000</td>\n",
       "      <td>35000</td>\n",
       "      <td>1050</td>\n",
       "    </tr>\n",
       "    <tr>\n",
       "      <th>197</th>\n",
       "      <td>재미있고 빠른 어휘력 동화 – 두근두근 이 마음은 뭘까</td>\n",
       "      <td>김세실 , 김도윤(그림)</td>\n",
       "      <td>-</td>\n",
       "      <td>2021-02-20</td>\n",
       "      <td>104</td>\n",
       "      <td>12000</td>\n",
       "      <td>10800</td>\n",
       "      <td>600</td>\n",
       "    </tr>\n",
       "    <tr>\n",
       "      <th>198</th>\n",
       "      <td>재미있고 빠른 어휘력 동화 – 키득키득 재밌는 의성어 의태어</td>\n",
       "      <td>김예실 , 김희선(그림)</td>\n",
       "      <td>-</td>\n",
       "      <td>2021-02-20</td>\n",
       "      <td>104</td>\n",
       "      <td>12000</td>\n",
       "      <td>10800</td>\n",
       "      <td>600</td>\n",
       "    </tr>\n",
       "    <tr>\n",
       "      <th>199</th>\n",
       "      <td>웹 애플리케이션 보안</td>\n",
       "      <td>앤드루 호프먼</td>\n",
       "      <td>최용</td>\n",
       "      <td>2021-02-19</td>\n",
       "      <td>372</td>\n",
       "      <td>30000</td>\n",
       "      <td>27000</td>\n",
       "      <td>1500</td>\n",
       "    </tr>\n",
       "  </tbody>\n",
       "</table>\n",
       "</div>"
      ],
      "text/plain": [
       "                                    제목             저자          번역         출간일  \\\n",
       "195         IT CookBook, C 언어 일취월장(2판)            신윤환  2021-02-24       800 쪽   \n",
       "196                              소비자행동            김학윤           -  2021-02-23   \n",
       "197     재미있고 빠른 어휘력 동화 – 두근두근 이 마음은 뭘까  김세실 , 김도윤(그림)           -  2021-02-20   \n",
       "198  재미있고 빠른 어휘력 동화 – 키득키득 재밌는 의성어 의태어  김예실 , 김희선(그림)           -  2021-02-20   \n",
       "199                        웹 애플리케이션 보안        앤드루 호프먼          최용  2021-02-19   \n",
       "\n",
       "               페이지     정가    판매가  마일리지  \n",
       "195  9791156645313  28000  28000   840  \n",
       "196            660  35000  35000  1050  \n",
       "197            104  12000  10800   600  \n",
       "198            104  12000  10800   600  \n",
       "199            372  30000  27000  1500  "
      ]
     },
     "execution_count": 19,
     "metadata": {},
     "output_type": "execute_result"
    }
   ],
   "source": [
    "from tqdm.notebook import tqdm\n",
    "\n",
    "lines = []\n",
    "for page in tqdm(range(1,11)):\n",
    "    url = f'{base_url}{sub_url}?page={page}'\n",
    "    res = requests.get(url)\n",
    "    soup = BeautifulSoup(res.text, 'html.parser')\n",
    "    lis = soup.select('.sub_book_list')\n",
    "    \n",
    "    for li in lis:\n",
    "        book_url = li.find('a')['href']\n",
    "        res = requests.get(base_url + book_url)\n",
    "        book_soup = BeautifulSoup(res.text, 'html.parser')\n",
    "\n",
    "        info = book_soup.select_one('.store_product_info_box')\n",
    "        title = info.find('h3').string\n",
    "        book_lis = info.select('.info_list > li')\n",
    "        author = book_lis[0].find('span').get_text().strip()\n",
    "        if len(book_lis) == 5:\n",
    "            translator = '-'\n",
    "        else:\n",
    "            translator = book_lis[1].find('span').get_text().strip()\n",
    "        date = book_lis[-4].find('span').get_text().strip()\n",
    "        page = book_lis[-3].find('span').get_text().strip().split()[0]\n",
    "        \n",
    "        payments = book_soup.select_one('.payment_box.curr').find_all('p')\n",
    "        price = payments[0].select_one('.pbr').get_text().strip()\n",
    "        sales = payments[1].select_one('.pbr').get_text().split('(')[0]\n",
    "        mileage = payments[2].select_one('.pbr').get_text().split()[0]\n",
    "\n",
    "        lines.append([title,author,translator,date,int(page),\n",
    "                      convert_unit(price),convert_unit(sales),convert_unit(mileage)])\n",
    "\n",
    "df = pd.DataFrame(lines, columns=['제목','저자','번역','출간일','페이지','정가','판매가','마일리지'])\n",
    "df.tail()"
   ]
  },
  {
   "cell_type": "code",
   "execution_count": 20,
   "metadata": {},
   "outputs": [
    {
     "data": {
      "text/plain": [
       "20"
      ]
     },
     "execution_count": 20,
     "metadata": {},
     "output_type": "execute_result"
    }
   ],
   "source": [
    "len(lis)"
   ]
  },
  {
   "cell_type": "code",
   "execution_count": 21,
   "metadata": {},
   "outputs": [
    {
     "data": {
      "text/plain": [
       "<li class=\"sub_book_list\">\n",
       "<div class=\"view_box\">\n",
       "<!--\n",
       "            <span class=\"view_box_block\" onclick=\"location.href='/store/books/look.php?p_code=B9718869266';\">\n",
       "            -->\n",
       "<span class=\"view_box_block\">\n",
       "<span class=\"img_hidden_a\">\n",
       "<span class=\"pop_quick_menu\">\n",
       "<a href=\"/store/books/look.php?p_code=B9718869266\"><img alt=\"상세보기\" src=\"https://www.hanbit.co.kr/images/common/icon_view_detail.png\"/></a>\n",
       "</span>\n",
       "<span class=\"price\">28,000<span>원</span></span>\n",
       "<span class=\"pop_quick_bg\" onclick=\"location='/store/books/look.php?p_code=B9718869266'\"></span>\n",
       "</span>\n",
       "<!-- 예약도서인 경우 -->\n",
       "<!-- ebook이 도서인 경우 -->\n",
       "<img alt=\"\" class=\"thumb\" src=\"/data/books/B9718869266_m.jpg\"/>\n",
       "</span>\n",
       "<div class=\"info\">\n",
       "<p class=\"book_tit\"><a href=\"/store/books/look.php?p_code=B9718869266\">IT CookBook, C 언어 일취월장(2판)</a></p>\n",
       "<p class=\"book_writer\">신윤환 </p>\n",
       "</div>\n",
       "</div>\n",
       "</li>"
      ]
     },
     "execution_count": 21,
     "metadata": {},
     "output_type": "execute_result"
    }
   ],
   "source": [
    "lis[15]"
   ]
  },
  {
   "cell_type": "code",
   "execution_count": 22,
   "metadata": {},
   "outputs": [],
   "source": [
    "href = lis[15].find('a')['href']\n",
    "res = requests.get(base_url + href)\n",
    "book_soup = BeautifulSoup(res.text, 'html.parser')"
   ]
  },
  {
   "cell_type": "code",
   "execution_count": 23,
   "metadata": {},
   "outputs": [
    {
     "data": {
      "text/plain": [
       "{'저자': '앤드루 호프먼',\n",
       " '번역': '최용',\n",
       " '출간': '2021-02-19',\n",
       " '페이지': '372 쪽',\n",
       " 'ISBN': '9791162243930',\n",
       " '물류코드': '10393'}"
      ]
     },
     "execution_count": 23,
     "metadata": {},
     "output_type": "execute_result"
    }
   ],
   "source": [
    "book_lis = info.select('.info_list > li')\n",
    "book_dict = {}\n",
    "for li in book_lis:\n",
    "    items = li.get_text().split(':')\n",
    "    book_dict[items[0].strip()] = items[1].strip()\n",
    "    \n",
    "book_dict"
   ]
  },
  {
   "cell_type": "code",
   "execution_count": 24,
   "metadata": {},
   "outputs": [
    {
     "data": {
      "application/vnd.jupyter.widget-view+json": {
       "model_id": "b27024c460084b9687c57d09d128b3f0",
       "version_major": 2,
       "version_minor": 0
      },
      "text/plain": [
       "  0%|          | 0/10 [00:00<?, ?it/s]"
      ]
     },
     "metadata": {},
     "output_type": "display_data"
    },
    {
     "data": {
      "text/html": [
       "<div>\n",
       "<style scoped>\n",
       "    .dataframe tbody tr th:only-of-type {\n",
       "        vertical-align: middle;\n",
       "    }\n",
       "\n",
       "    .dataframe tbody tr th {\n",
       "        vertical-align: top;\n",
       "    }\n",
       "\n",
       "    .dataframe thead th {\n",
       "        text-align: right;\n",
       "    }\n",
       "</style>\n",
       "<table border=\"1\" class=\"dataframe\">\n",
       "  <thead>\n",
       "    <tr style=\"text-align: right;\">\n",
       "      <th></th>\n",
       "      <th>제목</th>\n",
       "      <th>저자</th>\n",
       "      <th>번역</th>\n",
       "      <th>출간일</th>\n",
       "      <th>페이지</th>\n",
       "      <th>정가</th>\n",
       "      <th>판매가</th>\n",
       "      <th>마일리지</th>\n",
       "    </tr>\n",
       "  </thead>\n",
       "  <tbody>\n",
       "    <tr>\n",
       "      <th>195</th>\n",
       "      <td>IT CookBook, C 언어 일취월장(2판)</td>\n",
       "      <td>신윤환</td>\n",
       "      <td>-</td>\n",
       "      <td>2021-02-24</td>\n",
       "      <td>800</td>\n",
       "      <td>28000</td>\n",
       "      <td>28000</td>\n",
       "      <td>840</td>\n",
       "    </tr>\n",
       "    <tr>\n",
       "      <th>196</th>\n",
       "      <td>소비자행동</td>\n",
       "      <td>김학윤</td>\n",
       "      <td>-</td>\n",
       "      <td>2021-02-23</td>\n",
       "      <td>660</td>\n",
       "      <td>35000</td>\n",
       "      <td>35000</td>\n",
       "      <td>1050</td>\n",
       "    </tr>\n",
       "    <tr>\n",
       "      <th>197</th>\n",
       "      <td>재미있고 빠른 어휘력 동화 – 두근두근 이 마음은 뭘까</td>\n",
       "      <td>김세실 , 김도윤(그림)</td>\n",
       "      <td>-</td>\n",
       "      <td>2021-02-20</td>\n",
       "      <td>104</td>\n",
       "      <td>12000</td>\n",
       "      <td>10800</td>\n",
       "      <td>600</td>\n",
       "    </tr>\n",
       "    <tr>\n",
       "      <th>198</th>\n",
       "      <td>재미있고 빠른 어휘력 동화 – 키득키득 재밌는 의성어 의태어</td>\n",
       "      <td>김예실 , 김희선(그림)</td>\n",
       "      <td>-</td>\n",
       "      <td>2021-02-20</td>\n",
       "      <td>104</td>\n",
       "      <td>12000</td>\n",
       "      <td>10800</td>\n",
       "      <td>600</td>\n",
       "    </tr>\n",
       "    <tr>\n",
       "      <th>199</th>\n",
       "      <td>웹 애플리케이션 보안</td>\n",
       "      <td>앤드루 호프먼</td>\n",
       "      <td>최용</td>\n",
       "      <td>2021-02-19</td>\n",
       "      <td>372</td>\n",
       "      <td>30000</td>\n",
       "      <td>27000</td>\n",
       "      <td>1500</td>\n",
       "    </tr>\n",
       "  </tbody>\n",
       "</table>\n",
       "</div>"
      ],
      "text/plain": [
       "                                    제목             저자  번역         출간일  페이지  \\\n",
       "195         IT CookBook, C 언어 일취월장(2판)            신윤환   -  2021-02-24  800   \n",
       "196                              소비자행동            김학윤   -  2021-02-23  660   \n",
       "197     재미있고 빠른 어휘력 동화 – 두근두근 이 마음은 뭘까  김세실 , 김도윤(그림)   -  2021-02-20  104   \n",
       "198  재미있고 빠른 어휘력 동화 – 키득키득 재밌는 의성어 의태어  김예실 , 김희선(그림)   -  2021-02-20  104   \n",
       "199                        웹 애플리케이션 보안        앤드루 호프먼  최용  2021-02-19  372   \n",
       "\n",
       "        정가    판매가  마일리지  \n",
       "195  28000  28000   840  \n",
       "196  35000  35000  1050  \n",
       "197  12000  10800   600  \n",
       "198  12000  10800   600  \n",
       "199  30000  27000  1500  "
      ]
     },
     "execution_count": 24,
     "metadata": {},
     "output_type": "execute_result"
    }
   ],
   "source": [
    "lines = []\n",
    "for page in tqdm(range(1,11)):\n",
    "    url = f'{base_url}{sub_url}?page={page}'\n",
    "    res = requests.get(url)\n",
    "    soup = BeautifulSoup(res.text, 'html.parser')\n",
    "    lis = soup.select('.sub_book_list')\n",
    "    \n",
    "    for li in lis:\n",
    "        book_url = li.find('a')['href']\n",
    "        res = requests.get(base_url + book_url)\n",
    "        book_soup = BeautifulSoup(res.text, 'html.parser')\n",
    "\n",
    "        info = book_soup.select_one('.store_product_info_box')\n",
    "        title = info.find('h3').string\n",
    "        book_lis = info.select('.info_list > li')\n",
    "        book_dict = {}\n",
    "        for li in book_lis:\n",
    "            items = li.get_text().split(':')\n",
    "            book_dict[items[0].strip()] = items[1].strip()\n",
    "        author = book_dict['저자']\n",
    "        translator = book_dict['번역'] if '번역' in book_dict.keys() else '-' \n",
    "        date = book_dict['출간']\n",
    "        page = book_dict['페이지'].split()[0]\n",
    "        \n",
    "        payments = book_soup.select_one('.payment_box.curr').find_all('p')\n",
    "        price = payments[0].select_one('.pbr').get_text().strip()\n",
    "        sales = payments[1].select_one('.pbr').get_text().split('(')[0]\n",
    "        mileage = payments[2].select_one('.pbr').get_text().split()[0]\n",
    "\n",
    "        lines.append([title,author,translator,date,int(page),\n",
    "                      convert_unit(price),convert_unit(sales),convert_unit(mileage)])\n",
    "\n",
    "df = pd.DataFrame(lines, columns=['제목','저자','번역','출간일','페이지','정가','판매가','마일리지'])\n",
    "df.tail()"
   ]
  },
  {
   "cell_type": "code",
   "execution_count": 25,
   "metadata": {},
   "outputs": [],
   "source": [
    "df.to_csv('한빛도서.csv', index=False)"
   ]
  },
  {
   "cell_type": "code",
   "execution_count": null,
   "metadata": {},
   "outputs": [],
   "source": []
  }
 ],
 "metadata": {
  "interpreter": {
   "hash": "9a35ec9f607b12d73097b223a195964bd5e56918c8a2b6441703592dc5ca306e"
  },
  "kernelspec": {
   "display_name": "Python 3.8.8 64-bit ('base': conda)",
   "language": "python",
   "name": "python3"
  },
  "language_info": {
   "codemirror_mode": {
    "name": "ipython",
    "version": 3
   },
   "file_extension": ".py",
   "mimetype": "text/x-python",
   "name": "python",
   "nbconvert_exporter": "python",
   "pygments_lexer": "ipython3",
   "version": "3.8.8"
  },
  "orig_nbformat": 4
 },
 "nbformat": 4,
 "nbformat_minor": 2
}
