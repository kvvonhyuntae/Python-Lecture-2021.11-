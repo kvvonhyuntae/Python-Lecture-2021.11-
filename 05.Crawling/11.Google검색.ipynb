{
 "cells": [
  {
   "cell_type": "markdown",
   "metadata": {},
   "source": [
    "# Selenium Crawling - google 검색"
   ]
  },
  {
   "cell_type": "markdown",
   "metadata": {},
   "source": [
    "### 구글 사이트 크롤링\n",
    "기존의 BeautifulSoup 방식으로는 크롤링이 잘 되지 않음"
   ]
  },
  {
   "cell_type": "code",
   "execution_count": 1,
   "metadata": {},
   "outputs": [],
   "source": [
    "import requests\n",
    "\n",
    "url = 'https://www.google.com/'\n",
    "res = requests.get(url)\n",
    "html = res.text"
   ]
  },
  {
   "cell_type": "code",
   "execution_count": 2,
   "metadata": {},
   "outputs": [
    {
     "data": {
      "text/plain": [
       "<form action=\"/search\" name=\"f\"><table cellpadding=\"0\" cellspacing=\"0\"><tr valign=\"top\"><td width=\"25%\"> </td><td align=\"center\" nowrap=\"\"><input name=\"ie\" type=\"hidden\" value=\"ISO-8859-1\"/><input name=\"hl\" type=\"hidden\" value=\"ko\"/><input name=\"source\" type=\"hidden\" value=\"hp\"/><input name=\"biw\" type=\"hidden\"/><input name=\"bih\" type=\"hidden\"/><div class=\"ds\" style=\"height:32px;margin:4px 0\"><div style=\"position:relative;zoom:1\"><input autocomplete=\"off\" class=\"lst tiah\" maxlength=\"2048\" name=\"q\" size=\"57\" style=\"margin:0;padding:5px 8px 0 6px;vertical-align:top;color:#000;padding-right:38px\" title=\"Google 검색\" value=\"\"/><img alt=\"\" data-script-url=\"/textinputassistant/11/ko_tia.js\" height=\"23\" id=\"tsuid1\" src=\"/textinputassistant/tia.png\" style=\"position:absolute;cursor:pointer;right:5px;top:4px;z-index:300\" width=\"27\"/><script nonce=\"yuKvjCAPjUja5X4m9dsW0w==\">(function(){var id='tsuid1';document.getElementById(id).onclick = function(){var s = document.createElement('script');s.src = this.getAttribute('data-script-url');(document.getElementById('xjsc')||document.body).appendChild(s);};})();</script></div></div><br style=\"line-height:0\"/><span class=\"ds\"><span class=\"lsbb\"><input class=\"lsb\" name=\"btnG\" type=\"submit\" value=\"Google 검색\"/></span></span><span class=\"ds\"><span class=\"lsbb\"><input class=\"lsb\" id=\"tsuid2\" name=\"btnI\" type=\"submit\" value=\"I’m Feeling Lucky\"/><script nonce=\"yuKvjCAPjUja5X4m9dsW0w==\">(function(){var id='tsuid2';document.getElementById(id).onclick = function(){if (this.form.q.value){this.checked = 1;if (this.form.iflsig)this.form.iflsig.disabled = false;}\n",
       "else top.location='/doodles/';};})();</script><input name=\"iflsig\" type=\"hidden\" value=\"ALs-wAMAAAAAYa7VIWUeqXb4WQU9cqOY2KyfGunKfaTd\"/></span></span></td><td align=\"left\" class=\"fl sblc\" nowrap=\"\" width=\"25%\"><a href=\"/advanced_search?hl=ko&amp;authuser=0\">고급검색</a></td></tr></table><input id=\"gbv\" name=\"gbv\" type=\"hidden\" value=\"1\"/><script nonce=\"yuKvjCAPjUja5X4m9dsW0w==\">(function(){\n",
       "var a,b=\"1\";if(document&&document.getElementById)if(\"undefined\"!=typeof XMLHttpRequest)b=\"2\";else if(\"undefined\"!=typeof ActiveXObject){var c,d,e=[\"MSXML2.XMLHTTP.6.0\",\"MSXML2.XMLHTTP.3.0\",\"MSXML2.XMLHTTP\",\"Microsoft.XMLHTTP\"];for(c=0;d=e[c++];)try{new ActiveXObject(d),b=\"2\"}catch(h){}}a=b;if(\"2\"==a&&-1==location.search.indexOf(\"&gbv=2\")){var f=google.gbvu,g=document.getElementById(\"gbv\");g&&(g.value=a);f&&window.setTimeout(function(){location.href=f},0)};}).call(this);</script></form>"
      ]
     },
     "execution_count": 2,
     "metadata": {},
     "output_type": "execute_result"
    }
   ],
   "source": [
    "from bs4 import BeautifulSoup\n",
    "soup = BeautifulSoup(html, 'html.parser')\n",
    "soup.select_one('form')"
   ]
  },
  {
   "cell_type": "code",
   "execution_count": 5,
   "metadata": {},
   "outputs": [],
   "source": [
    "soup.select_one('.LC20lb MBeuO DKV0Md')"
   ]
  },
  {
   "cell_type": "markdown",
   "metadata": {},
   "source": [
    "## 셀레니움 크롤링"
   ]
  },
  {
   "cell_type": "code",
   "execution_count": 6,
   "metadata": {},
   "outputs": [],
   "source": [
    "import time\n",
    "from selenium import webdriver\n",
    "from selenium.webdriver.common.keys import Keys"
   ]
  },
  {
   "cell_type": "code",
   "execution_count": 7,
   "metadata": {},
   "outputs": [],
   "source": [
    "url = 'https://www.google.com/'\n",
    "driver = webdriver.Chrome('chromedriver.exe')\n",
    "driver.get(url)"
   ]
  },
  {
   "cell_type": "code",
   "execution_count": 8,
   "metadata": {},
   "outputs": [],
   "source": [
    "search_box = driver.find_element_by_name('q')\n",
    "search_box.send_keys('ChromeDriver')"
   ]
  },
  {
   "cell_type": "code",
   "execution_count": 9,
   "metadata": {},
   "outputs": [],
   "source": [
    "search_box.send_keys(Keys.ENTER)\n",
    "time.sleep(2)"
   ]
  },
  {
   "cell_type": "code",
   "execution_count": 17,
   "metadata": {},
   "outputs": [],
   "source": [
    "divs=driver.find_elements_by_css_selector('#search .g')"
   ]
  },
  {
   "cell_type": "code",
   "execution_count": 18,
   "metadata": {},
   "outputs": [
    {
     "data": {
      "text/plain": [
       "'ChromeDriver - WebDriver for Chrome - Downloads'"
      ]
     },
     "execution_count": 18,
     "metadata": {},
     "output_type": "execute_result"
    }
   ],
   "source": [
    "div = divs[0]\n",
    "title = div.find_element_by_css_selector('.LC20lb.MBeuO.DKV0Md')\n",
    "title.text"
   ]
  },
  {
   "cell_type": "code",
   "execution_count": 19,
   "metadata": {},
   "outputs": [
    {
     "data": {
      "text/plain": [
       "'If you are using Chrome version 95, please download ChromeDriver 95.0.4638.69. For older version of Chrome, please see below for the version of ChromeDriver ...'"
      ]
     },
     "execution_count": 19,
     "metadata": {},
     "output_type": "execute_result"
    }
   ],
   "source": [
    "content = div.find_element_by_css_selector('.VwiC3b.yXK7lf')\n",
    "content.text"
   ]
  },
  {
   "cell_type": "markdown",
   "metadata": {},
   "source": [
    "content = div.find_element_by_css_selector('.VwiC3b.yXK7lf')\n",
    "- selenium으로 검색한 결과를 BeautifulSoup으로 처리"
   ]
  },
  {
   "cell_type": "code",
   "execution_count": 20,
   "metadata": {},
   "outputs": [
    {
     "data": {
      "text/plain": [
       "11"
      ]
     },
     "execution_count": 20,
     "metadata": {},
     "output_type": "execute_result"
    }
   ],
   "source": [
    "html = driver.page_source\n",
    "soup = BeautifulSoup(html, 'html.parser')\n",
    "divs = soup.select('#search .g')\n",
    "len(divs)"
   ]
  },
  {
   "cell_type": "code",
   "execution_count": 21,
   "metadata": {},
   "outputs": [],
   "source": [
    "lines = []\n",
    "for div in divs:\n",
    "    title = div.select_one('.LC20lb.MBeuO.DKV0Md').get_text().strip()\n",
    "    content = div.select_one('.VwiC3b.yXK7lf').get_text().strip()\n",
    "    lines.append([title, content])"
   ]
  },
  {
   "cell_type": "markdown",
   "metadata": {},
   "source": [
    "- 드라이버를 close()해야함"
   ]
  },
  {
   "cell_type": "code",
   "execution_count": 22,
   "metadata": {},
   "outputs": [
    {
     "data": {
      "text/html": [
       "<div>\n",
       "<style scoped>\n",
       "    .dataframe tbody tr th:only-of-type {\n",
       "        vertical-align: middle;\n",
       "    }\n",
       "\n",
       "    .dataframe tbody tr th {\n",
       "        vertical-align: top;\n",
       "    }\n",
       "\n",
       "    .dataframe thead th {\n",
       "        text-align: right;\n",
       "    }\n",
       "</style>\n",
       "<table border=\"1\" class=\"dataframe\">\n",
       "  <thead>\n",
       "    <tr style=\"text-align: right;\">\n",
       "      <th></th>\n",
       "      <th>Title</th>\n",
       "      <th>Content</th>\n",
       "    </tr>\n",
       "  </thead>\n",
       "  <tbody>\n",
       "    <tr>\n",
       "      <th>0</th>\n",
       "      <td>ChromeDriver - WebDriver for Chrome - Downloads</td>\n",
       "      <td>If you are using Chrome version 95, please dow...</td>\n",
       "    </tr>\n",
       "    <tr>\n",
       "      <th>1</th>\n",
       "      <td>ChromeDriver - WebDriver for Chrome - Downloads</td>\n",
       "      <td>If you are using Chrome version 95, please dow...</td>\n",
       "    </tr>\n",
       "    <tr>\n",
       "      <th>2</th>\n",
       "      <td>ChromeDriver - WebDriver for Chrome</td>\n",
       "      <td>ChromeDriver · WebDriver is an open source too...</td>\n",
       "    </tr>\n",
       "    <tr>\n",
       "      <th>3</th>\n",
       "      <td>selenium) 설치하기! chromedriver 버전 오류 해결하기 - 네이버 ...</td>\n",
       "      <td>여기에서 현재 사용중인 크롬의 버전과 일치하는 버전의 파일을 다운 받으시면 됩니다....</td>\n",
       "    </tr>\n",
       "    <tr>\n",
       "      <th>4</th>\n",
       "      <td>Selenium으로 무적 크롤러 만들기</td>\n",
       "      <td>2017. 2. 27. — from selenium import webdriver ...</td>\n",
       "    </tr>\n",
       "    <tr>\n",
       "      <th>5</th>\n",
       "      <td>ChromeDriver · SeleniumHQ/selenium Wiki - GitHub</td>\n",
       "      <td>The ChromeDriver consists of three separate pi...</td>\n",
       "    </tr>\n",
       "    <tr>\n",
       "      <th>6</th>\n",
       "      <td>[ChromeDriver] 크롬 드라이버 버전에 따라 설정하는 방법</td>\n",
       "      <td>2020. 6. 9. — 어쩌고 버전입니다. 크롬드라이버 다운로드 사이트로 갑니다....</td>\n",
       "    </tr>\n",
       "    <tr>\n",
       "      <th>7</th>\n",
       "      <td>크롬드라이버(chromedriver) 다운로드 - Mizy's</td>\n",
       "      <td>크롬드라이버(chromedriver) 다운로드. Python/Crawling 202...</td>\n",
       "    </tr>\n",
       "    <tr>\n",
       "      <th>8</th>\n",
       "      <td>\" 'chromedriver'실행 파일이 경로에 있어야합니다\" - 리뷰나라</td>\n",
       "      <td>나는 파이썬과 함께 셀레늄을 사용하고 있으며이 사이트에서 내 Windows 컴퓨터 ...</td>\n",
       "    </tr>\n",
       "    <tr>\n",
       "      <th>9</th>\n",
       "      <td>Index of</td>\n",
       "      <td>Name, Last modified, Size, ETag. [DIR], 2.0, -...</td>\n",
       "    </tr>\n",
       "    <tr>\n",
       "      <th>10</th>\n",
       "      <td>[Heroku] 헤로쿠에서 ChromeDriver 사용하기 - 아기개발자의 ...</td>\n",
       "      <td>2021. 5. 20. — local path를 이용해서 chromedriver를 ...</td>\n",
       "    </tr>\n",
       "  </tbody>\n",
       "</table>\n",
       "</div>"
      ],
      "text/plain": [
       "                                                Title  \\\n",
       "0     ChromeDriver - WebDriver for Chrome - Downloads   \n",
       "1     ChromeDriver - WebDriver for Chrome - Downloads   \n",
       "2                 ChromeDriver - WebDriver for Chrome   \n",
       "3   selenium) 설치하기! chromedriver 버전 오류 해결하기 - 네이버 ...   \n",
       "4                               Selenium으로 무적 크롤러 만들기   \n",
       "5    ChromeDriver · SeleniumHQ/selenium Wiki - GitHub   \n",
       "6               [ChromeDriver] 크롬 드라이버 버전에 따라 설정하는 방법   \n",
       "7                  크롬드라이버(chromedriver) 다운로드 - Mizy's   \n",
       "8           \" 'chromedriver'실행 파일이 경로에 있어야합니다\" - 리뷰나라   \n",
       "9                                            Index of   \n",
       "10      [Heroku] 헤로쿠에서 ChromeDriver 사용하기 - 아기개발자의 ...   \n",
       "\n",
       "                                              Content  \n",
       "0   If you are using Chrome version 95, please dow...  \n",
       "1   If you are using Chrome version 95, please dow...  \n",
       "2   ChromeDriver · WebDriver is an open source too...  \n",
       "3   여기에서 현재 사용중인 크롬의 버전과 일치하는 버전의 파일을 다운 받으시면 됩니다....  \n",
       "4   2017. 2. 27. — from selenium import webdriver ...  \n",
       "5   The ChromeDriver consists of three separate pi...  \n",
       "6   2020. 6. 9. — 어쩌고 버전입니다. 크롬드라이버 다운로드 사이트로 갑니다....  \n",
       "7   크롬드라이버(chromedriver) 다운로드. Python/Crawling 202...  \n",
       "8   나는 파이썬과 함께 셀레늄을 사용하고 있으며이 사이트에서 내 Windows 컴퓨터 ...  \n",
       "9   Name, Last modified, Size, ETag. [DIR], 2.0, -...  \n",
       "10  2021. 5. 20. — local path를 이용해서 chromedriver를 ...  "
      ]
     },
     "execution_count": 22,
     "metadata": {},
     "output_type": "execute_result"
    }
   ],
   "source": [
    "import pandas as pd\n",
    "df = pd.DataFrame(lines, columns=['Title','Content'])\n",
    "df"
   ]
  },
  {
   "cell_type": "code",
   "execution_count": null,
   "metadata": {},
   "outputs": [],
   "source": [
    "driver.close()"
   ]
  }
 ],
 "metadata": {
  "interpreter": {
   "hash": "9a35ec9f607b12d73097b223a195964bd5e56918c8a2b6441703592dc5ca306e"
  },
  "kernelspec": {
   "display_name": "Python 3.8.8 64-bit ('base': conda)",
   "language": "python",
   "name": "python3"
  },
  "language_info": {
   "codemirror_mode": {
    "name": "ipython",
    "version": 3
   },
   "file_extension": ".py",
   "mimetype": "text/x-python",
   "name": "python",
   "nbconvert_exporter": "python",
   "pygments_lexer": "ipython3",
   "version": "3.8.8"
  },
  "orig_nbformat": 4
 },
 "nbformat": 4,
 "nbformat_minor": 2
}
